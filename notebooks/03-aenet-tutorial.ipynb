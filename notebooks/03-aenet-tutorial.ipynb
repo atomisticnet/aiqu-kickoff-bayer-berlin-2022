{
 "cells": [
  {
   "cell_type": "markdown",
   "source": "# ænet Tutorial",
   "metadata": {
    "tags": [],
    "is_collapsed": false,
    "cell_id": "00000-f1697167-502a-4770-ad03-53e637af1c5a",
    "deepnote_cell_type": "text-cell-h1"
   }
  },
  {
   "cell_type": "markdown",
   "source": "The materials for this tutorial are available in the following GitHub repository: https://github.com/atomisticnet/psi-k-mlip-workshop-2021\n\n**If you make use of ænet, please cite the following references as appropriate:**\n\nA more in-depth tutorial for the construction of ANN potentials can be found in:\n\nA.M. Miksch, T. Morawietz, J. Kästner, A. Urban, N. Artrith, “Strategies for the Construction of Machine-Learning Potentials for Accurate and Efficient Atomic-Scale Simulations”, [*Mach. Learn.: Sci. Technol.* **2** (2021) 031001](https://doi.org/10.1088/2632-2153/abfd96). \n\nThe atomic energy network (ænet) package: http://ann.atomistic.net\n\n[N. Artrith and A. Urban, *Comput. Mater. Sci.* **114** (2016) 135-150.](http://dx.doi.org/10.1016/j.commatsci.2015.11.047)<br/>\n[N. Artrith, A. Urban, and G. Ceder, *Phys. Rev. B* **96** (2017) 014112.](http://dx.doi.org/10.1103/PhysRevB.96.014112)\n\nThe ænet-LAMMPS interface:\n\n[M. S. Chen, T. Morawietz, H. Mori, T. E. Markland, and N. Artrith, *J. Chem. Phys.* **155** (2021) 074801.](https://doi.org/10.1063/5.0063880)\n\nThe atomic simulation environment (ASE): https://wiki.fysik.dtu.dk/ase/\n\n[A. H. Larsen et al., *J. Phys.: Condens. Matter* **29** (2017) 273002.](https://doi.org/10.1088/1361-648X/aa680e)\n\nThe Large-scale Atomic/Molecular Massively Parallel Simulator (LAMMPS): https://www.lammps.org\n\n[A. P. Thompson et al., Comp. Phys. Commun. 271 (2022) 10817.](https://doi.org/10.1016/j.cpc.2021.108171)\n\nContact: N. Artrith (n.artrith@uu.nl), M. S. Chen (misch@stanford.edu), A. M. Miksch (miksch@theochem.uni-stuttgart.de), A. Urban (a.urban@columbia.edu)",
   "metadata": {
    "tags": [],
    "cell_id": "00001-35e2b6e7-48ed-47ba-8e63-741420dcf6ca",
    "deepnote_cell_type": "markdown"
   }
  },
  {
   "cell_type": "markdown",
   "source": "The notebook might have to be restarted to activate the packages that we just installed.  Try to run the following cell.",
   "metadata": {
    "tags": [],
    "cell_id": "00006-7eeb9152-ac55-43b1-a16c-89511a2cb718",
    "deepnote_cell_type": "markdown"
   }
  },
  {
   "cell_type": "code",
   "metadata": {
    "tags": [],
    "cell_id": "00004-b33120ed-a212-4636-b53a-ca90962178b7",
    "deepnote_to_be_reexecuted": false,
    "source_hash": "dac1289f",
    "execution_start": 1636914107899,
    "execution_millis": 0,
    "deepnote_cell_type": "code"
   },
   "source": "try:\n  import aenet\n  import ase\nexcept ImportError:\n  import os\n  os.kill(os.getpid(), 9)",
   "outputs": [],
   "execution_count": null
  },
  {
   "cell_type": "markdown",
   "source": "We need to import a few Python packages/libraries that will be used below.",
   "metadata": {
    "tags": [],
    "is_collapsed": false,
    "cell_id": "00009-a1abfd8b-2c45-4dfc-b2b3-bd3eab49f6cc",
    "deepnote_cell_type": "text-cell-p"
   }
  },
  {
   "cell_type": "code",
   "metadata": {
    "tags": [],
    "cell_id": "00011-0689c9b6-004d-481d-b108-aa40ed2f359f",
    "deepnote_to_be_reexecuted": false,
    "source_hash": "a5b77d47",
    "execution_start": 1636914111535,
    "execution_millis": 414,
    "deepnote_cell_type": "code"
   },
   "source": "import numpy as np\nimport pandas as pd\nimport re\nfrom IPython.display import Image\n%matplotlib inline\nimport matplotlib.pyplot as plt\nplt.rcParams.update({\"font.size\": 15})\nplt.close(\"all\")",
   "outputs": [],
   "execution_count": null
  },
  {
   "cell_type": "markdown",
   "source": "## 1. Generating the Reference Data Set (TiO2 bulk)",
   "metadata": {
    "tags": [],
    "is_collapsed": false,
    "cell_id": "00011-b71308cb-c002-4cf2-8f59-ad853dde1364",
    "deepnote_cell_type": "text-cell-h2"
   }
  },
  {
   "cell_type": "markdown",
   "source": "The first step is the transformation of the atomic structures in the reference data set into a feature-vector representation of local atomic environments.  This is done with the ænet tool `generate.x`. \n\nWe enter a subdirectory in which we will generate the reference data set.",
   "metadata": {
    "tags": [],
    "cell_id": "00012-5a8001dc-2051-4178-bfbd-ab0cc49cc787",
    "deepnote_cell_type": "markdown"
   }
  },
  {
   "cell_type": "code",
   "metadata": {
    "tags": [],
    "cell_id": "00013-e360c35b-3c31-4592-b038-e3cc36c494c3",
    "deepnote_to_be_reexecuted": false,
    "source_hash": "f6f47793",
    "execution_start": 1636914115708,
    "execution_millis": 640,
    "deepnote_cell_type": "code"
   },
   "source": "%cd /work/psi-k-mlip-workshop-2021/01-generate\n%ls",
   "outputs": [
    {
     "name": "stdout",
     "text": "/work/psi-k-mlip-workshop-2021/01-generate\ngenerate.in  generate.out  \u001b[0m\u001b[01;32mO.fingerprint.stp\u001b[0m*  \u001b[01;32mTi.fingerprint.stp\u001b[0m*  TiO2.train\n",
     "output_type": "stream"
    }
   ],
   "execution_count": null
  },
  {
   "cell_type": "markdown",
   "source": "`generate.x` is a command-line tool that reads input parameters from text files. The file `generate.in` is the pricipal input file containing information about the chemical species and the structures in the reference data set:\n\n- The name of the *training set* output file to be generated,\n- Atomic energies for each species that are subtracted from the total energy before the potential is trained,\n- The file names of the *fingerprint* set-ups for each species that define how the local atomic environment is described, and\n- The paths of the atomic structure files in the reference data set.",
   "metadata": {
    "tags": [],
    "cell_id": "00015-ca0667d3-853e-42c7-a58c-7e774db5011e",
    "deepnote_cell_type": "markdown"
   }
  },
  {
   "cell_type": "code",
   "metadata": {
    "tags": [],
    "cell_id": "00015-da23c75a-65f2-4a45-baa8-4bc7e03f3bd8",
    "deepnote_to_be_reexecuted": false,
    "source_hash": "11e9bc9",
    "execution_start": 1636914120623,
    "execution_millis": 625,
    "deepnote_cell_type": "code"
   },
   "source": "! head -n 15 generate.in",
   "outputs": [
    {
     "name": "stdout",
     "text": "OUTPUT TiO2.train\r\n\r\nTYPES\r\n2\r\nO   -432.503149303  ! eV\r\nTi -1604.604515075  ! eV\r\n\r\nSETUPS\r\nO   O.fingerprint.stp\r\nTi Ti.fingerprint.stp\r\n\r\nFILES\r\n528\r\n../xsf/structure0161.xsf\r\n../xsf/structure0209.xsf\r\n",
     "output_type": "stream"
    }
   ],
   "execution_count": null
  },
  {
   "cell_type": "markdown",
   "source": "Let's take a look at the *fingerprint* set-up file for oxygen.  The one for titanium is essentially identical in this example.\n\n- A Chebyshev descriptor [1] with radial expansion order 12 and angular expansion order 5 is used,\n- The radial and angular cutoff distances are set to 5 Å and 3 Å, respectively, and\n- The minimal distance between atoms is set to be 0.75 Å.\n\n[1] N. Artrith, A. Urban, and G. Ceder, Phys. Rev. B 96 (2017) 014112.",
   "metadata": {
    "tags": [],
    "cell_id": "00016-05a2b9f7-a7fd-4c93-bab8-d91cb950b09c",
    "deepnote_cell_type": "markdown"
   }
  },
  {
   "cell_type": "code",
   "metadata": {
    "tags": [],
    "cell_id": "00016-91e35394-65ba-40ac-92a8-e9bcb0834e66",
    "deepnote_to_be_reexecuted": false,
    "source_hash": "10227424",
    "execution_start": 1636914125733,
    "execution_millis": 637,
    "deepnote_cell_type": "code"
   },
   "source": "! cat O.fingerprint.stp",
   "outputs": [
    {
     "name": "stdout",
     "text": "DESCR\r\n  Structural fingerprint setup for O in bulk TiO2.\r\nEND DESCR\r\n\r\nATOM O\r\n\r\nENV  2\r\nTi\r\nO\r\n\r\nRMIN 0.75d0\r\n\r\nBASIS type=Chebyshev\r\nradial_Rc = 5.0  radial_N = 12  angular_Rc = 3.0  angular_N = 5\r\n",
     "output_type": "stream"
    }
   ],
   "execution_count": null
  },
  {
   "cell_type": "markdown",
   "source": "In this example, everything is already prepared to start with the reference data set generation.  So, we can simply run `generate.x` and wait until all structures have been processed.  We collect the output that `generate.x` prints to the screen in a file named `generate.out`.  \n\n**Note: this can take a minute**",
   "metadata": {
    "tags": [],
    "cell_id": "00018-beaaf003-6f2c-4d2b-b661-e70134b92ca8",
    "deepnote_cell_type": "markdown"
   }
  },
  {
   "cell_type": "code",
   "metadata": {
    "tags": [],
    "cell_id": "00019-af7535b9-6f94-4303-ac4b-8f304442e29e",
    "deepnote_to_be_reexecuted": false,
    "source_hash": "65e22ed8",
    "execution_start": 1636914129643,
    "execution_millis": 1295,
    "deepnote_cell_type": "code"
   },
   "source": "! /work/aenet/bin/generate.x-2.0.4-gfortran_serial generate.in > generate.out\nprint(\"Reference data set generation completed.\")\n%ls",
   "outputs": [
    {
     "name": "stdout",
     "text": " Error: file already exists: TiO2.train\nReference data set generation completed.\ngenerate.in  generate.out  \u001b[0m\u001b[01;32mO.fingerprint.stp\u001b[0m*  \u001b[01;32mTi.fingerprint.stp\u001b[0m*  TiO2.train\n",
     "output_type": "stream"
    }
   ],
   "execution_count": null
  },
  {
   "cell_type": "markdown",
   "source": "The training-set file `TiO2.train` has been generated. **Note that training-set files are binary files and cannot be opened with a text editor.**\n\nNow, we are ready to train our TiO2 potential.  Let's return to the main directory.",
   "metadata": {
    "tags": [],
    "cell_id": "00020-9e97443a-6c2a-4160-b3a0-067f72d65c00",
    "deepnote_cell_type": "markdown"
   }
  },
  {
   "cell_type": "code",
   "metadata": {
    "tags": [],
    "cell_id": "00021-d05c82db-27d6-41a4-a986-f480c13d9a35",
    "deepnote_to_be_reexecuted": false,
    "source_hash": "52c17cfd",
    "execution_start": 1636914136551,
    "execution_millis": 3,
    "deepnote_cell_type": "code"
   },
   "source": "%cd /work/",
   "outputs": [
    {
     "name": "stdout",
     "text": "/work\n",
     "output_type": "stream"
    }
   ],
   "execution_count": null
  },
  {
   "cell_type": "markdown",
   "source": "## 2. Training an ANN Potential",
   "metadata": {
    "tags": [],
    "is_collapsed": false,
    "cell_id": "00022-d4391655-a1df-489d-8de2-99980e7f8c3c",
    "deepnote_cell_type": "text-cell-h2"
   }
  },
  {
   "cell_type": "markdown",
   "source": "In this section, we will use the reference data set generated in the previous section to train an artificial neural network (ANN) potential.\n\nPotential training is also done with a command-line tool, which is named `train.x`.  ",
   "metadata": {
    "tags": [],
    "cell_id": "00023-575290c0-a6bb-4a82-8e6e-1bf9c8312b2b",
    "deepnote_cell_type": "markdown"
   }
  },
  {
   "cell_type": "code",
   "metadata": {
    "tags": [],
    "cell_id": "00024-0ea4e9ee-b36b-43f6-9d18-7f850f3b41c5",
    "deepnote_to_be_reexecuted": false,
    "source_hash": "d96bf0ca",
    "execution_start": 1636914447847,
    "execution_millis": 605,
    "deepnote_cell_type": "code"
   },
   "source": "%cd /work/psi-k-mlip-workshop-2021/02-train\n%ls",
   "outputs": [
    {
     "name": "stdout",
     "text": "/work/psi-k-mlip-workshop-2021/02-train\n\u001b[0m\u001b[01;34mexample-good-ann-fits\u001b[0m/  Ti.5t-5t.nn        train.in       train.rngstate\nnn.tar.gz               \u001b[01;36mTiO2.train\u001b[0m@        train.out\nO.5t-5t.nn              TiO2.train.scaled  train.restart\n",
     "output_type": "stream"
    }
   ],
   "execution_count": null
  },
  {
   "cell_type": "markdown",
   "source": "An input file for `train.x`, named `train.in`, has already been prepared for us.  This file contains the following instructions\n\n- The path to the reference data set file (`TiO2.train`),\n- The fraction of the data set that should be set aside as validation set,\n- The number of training iterations (epochs) to perform,\n- The training method and its parameters, and\n- The *architecture* of the atomic-energy ANNs for each species.",
   "metadata": {
    "tags": [],
    "cell_id": "00025-5216dff6-c362-477a-b5fa-0e86eddb1053",
    "deepnote_cell_type": "markdown"
   }
  },
  {
   "cell_type": "code",
   "metadata": {
    "tags": [],
    "cell_id": "00026-0cd409a3-fd45-43d3-adda-e3ea98d78ba8",
    "deepnote_to_be_reexecuted": false,
    "source_hash": "ab3025b9",
    "execution_start": 1636914256014,
    "execution_millis": 647,
    "deepnote_cell_type": "code"
   },
   "source": "%cat train.in",
   "outputs": [
    {
     "name": "stdout",
     "text": "TRAININGSET TiO2.train\r\nTESTPERCENT 10\r\nITERATIONS  100\r\nMAXENERGY   -0.05 eV\r\n\r\nMETHOD\r\nbfgs\r\n\r\nNETWORKS\r\n! atom   network         hidden\r\n! types  file-name       layers  nodes:activation\r\n  Ti     Ti.5t-5t.nn    2    5:tanh  5:tanh\r\n  O      O.5t-5t.nn     2    5:tanh  5:tanh\r\n",
     "output_type": "stream"
    }
   ],
   "execution_count": null
  },
  {
   "cell_type": "markdown",
   "source": "Before we can start with training, the reference data set file needs to be made available.  We will create a symbolic link to it in the present directory.",
   "metadata": {
    "tags": [],
    "cell_id": "00027-14f79d99-b1ca-4770-9cf2-652d0d5186de",
    "deepnote_cell_type": "markdown"
   }
  },
  {
   "cell_type": "code",
   "metadata": {
    "tags": [],
    "cell_id": "00028-cfc21c1f-1504-4666-8af8-286e9ca7406e",
    "deepnote_to_be_reexecuted": false,
    "source_hash": "b7ff4dad",
    "execution_start": 1636914259875,
    "execution_millis": 1281,
    "deepnote_cell_type": "code"
   },
   "source": "! ln -s /work/psi-k-mlip-workshop-2021/01-generate/TiO2.train\n%ls",
   "outputs": [
    {
     "name": "stdout",
     "text": "ln: failed to create symbolic link './TiO2.train': File exists\n\u001b[0m\u001b[01;34mexample-good-ann-fits\u001b[0m/  Ti.5t-5t.nn        train.in       train.rngstate\nnn.tar.gz               \u001b[01;36mTiO2.train\u001b[0m@        train.out\nO.5t-5t.nn              TiO2.train.scaled  train.restart\n",
     "output_type": "stream"
    }
   ],
   "execution_count": null
  },
  {
   "cell_type": "markdown",
   "source": "Now, we perform the training.  Note that this can take a few minutes.  We can observe the training iterations.",
   "metadata": {
    "tags": [],
    "cell_id": "00029-307cc274-9e7f-4736-b334-5b53f045e178",
    "deepnote_cell_type": "markdown"
   }
  },
  {
   "cell_type": "code",
   "metadata": {
    "tags": [],
    "cell_id": "00030-e9614d8b-4116-4de6-b761-d74d359ab040",
    "deepnote_to_be_reexecuted": false,
    "source_hash": "f78aa061",
    "execution_start": 1636914457150,
    "execution_millis": 67020,
    "deepnote_cell_type": "code"
   },
   "source": "%cd /work/psi-k-mlip-workshop-2021/02-train\n! rm -f *.nn train.restart train.rngstate\n! /work/aenet/bin/train.x-2.0.4-gfortran_serial train.in | tee train.out\n!! tar cfvz nn.tar.gz *.nn-* && rm -f *.nn-*\n%ls",
   "outputs": [
    {
     "name": "stdout",
     "text": "/work/psi-k-mlip-workshop-2021/02-train\n ======================================================================\n                       Training process started.                       \n ======================================================================\n                                                                       \n                          2021-11-14  18:27:38                         \n                                                                       \n\n Copyright (C) 2015-2018 Nongnuch Artrith and Alexander Urban\n\n This program is distributed in the hope that it will be useful, but\n WITHOUT ANY WARRANTY; without even the implied warranty of\n MERCHANTABILITY or FITNESS FOR A PARTICULAR PURPOSE.  See the\n Mozilla Public License, v. 2.0, for more details.\n\n Loading scaled training set file: TiO2.train.scaled\n\n ----------------------------------------------------------------------\n                                Networks                               \n ----------------------------------------------------------------------\n\n Creating a new O network\n\n Number of layers :   4\n\n Number of nodes (without bias) \n and activation type per layer :\n\n       1 :    38\n       2 :     5  hyperbolic tangent (tanh)\n       3 :     5  hyperbolic tangent (tanh)\n       4 :     1  linear function (linear)\n\n Required memory (words) :     125947 (    983.96 KB)\n\n Total number of weights (incl. bias) :      231\n\n Creating a new Ti network\n\n Number of layers :   4\n\n Number of nodes (without bias) \n and activation type per layer :\n\n       1 :    38\n       2 :     5  hyperbolic tangent (tanh)\n       3 :     5  hyperbolic tangent (tanh)\n       4 :     1  linear function (linear)\n\n Required memory (words) :     125947 (    983.96 KB)\n\n Total number of weights (incl. bias) :      231\n\n ----------------------------------------------------------------------\n                            Storing networks                           \n ----------------------------------------------------------------------\n\n Saving the O network to file : O.5t-5t.nn\n Saving the Ti network to file : Ti.5t-5t.nn\n\n ----------------------------------------------------------------------\n                           Training set info.                          \n ----------------------------------------------------------------------\n\n Training set file                   : TiO2.train.scaled\n Number of structures in the data set: 527\n\n Atomic species in training set      : 2\n   Species : O Ti\n\n Average energy (eV/atom) : -0.682288\n Minimum energy (eV/atom) : -1.000000\n Maximum energy (eV/atom) : 0.984049\n\n The input and output values have been normalized to [-1.0, 1.0].\n Structures outside of this interval will not be used for training.\n   Energy scaling factor: 0.234707\n   Atomic energy shift  : -4.310636\n\n ----------------------------------------------------------------------\n                            Training details                           \n ----------------------------------------------------------------------\n\n Training method         : Limited Memory BFGS\n\n Number of iterations    : 100\n\n Training structures     : 475\n Testing  structures     : 52\n\n Testing set : \n\n       8       23       31       42       51       56       65       80 \n      84       94      117      121      133      144      145      147 \n     150      151      163      172      177      200      223      225 \n     227      242      245      252      269      292      300      303 \n     310      324      325      327      355      359      398      406 \n     435      449      452      455      462      480      490      491 \n     507      520      526      527 \n\n ----------------------------------------------------------------------\n                            Training process                           \n ----------------------------------------------------------------------\n\n Weight optimization for 100 epochs using the Limited Memory BFGS method.\n\n Sampling type               : sequential\n\n        |------------TRAIN-----------|  |------------TEST------------|\n epoch             MAE          <RMSE>             MAE          <RMSE>\n     0    2.349160E+00    2.730356E+00    2.378775E+00    2.696175E+00 <\n     1    2.349160E+00    2.730356E+00    2.378775E+00    2.696175E+00 <\n     2    2.197540E+00    2.502366E+00    2.124432E+00    2.571707E+00 <\n     3    8.444144E-01    1.087466E+00    9.566595E-01    1.408746E+00 <\n     4    5.118115E-01    7.372409E-01    7.360580E-01    1.129306E+00 <\n     5    4.682087E-01    6.810796E-01    6.665534E-01    1.044222E+00 <\n     6    4.147771E-01    5.775633E-01    5.689791E-01    8.443754E-01 <\n     7    3.730946E-01    5.174951E-01    4.787326E-01    7.309052E-01 <\n     8    3.362650E-01    4.616150E-01    4.271086E-01    6.555176E-01 <\n     9    3.142952E-01    4.275619E-01    3.867106E-01    6.228494E-01 <\n    10    2.629454E-01    3.604839E-01    3.466722E-01    5.634330E-01 <\n    11    2.222375E-01    3.127631E-01    3.159231E-01    5.267097E-01 <\n    12    2.107787E-01    2.896702E-01    2.529795E-01    4.224151E-01 <\n    13    2.023458E-01    2.744904E-01    2.686062E-01    4.413841E-01 <\n    14    1.932931E-01    2.655633E-01    2.674324E-01    4.426438E-01 <\n    15    1.824746E-01    2.519837E-01    2.534462E-01    4.357306E-01 <\n    16    1.699491E-01    2.346739E-01    2.352648E-01    4.218603E-01 <\n    17    1.480296E-01    2.061917E-01    2.229169E-01    4.115017E-01 <\n    18    1.440840E-01    1.947041E-01    2.153875E-01    3.941500E-01 <\n    19    1.360361E-01    1.851393E-01    2.042394E-01    3.853612E-01 <\n    20    1.281011E-01    1.737783E-01    1.936210E-01    3.727242E-01 <\n    21    1.224861E-01    1.636037E-01    1.888045E-01    3.673521E-01 <\n    22    1.187081E-01    1.563983E-01    1.879510E-01    3.591157E-01 <\n    23    1.173024E-01    1.531015E-01    1.867050E-01    3.577828E-01 <\n    24    1.124128E-01    1.465563E-01    1.812688E-01    3.488752E-01 <\n    25    1.038847E-01    1.357182E-01    1.702654E-01    3.360004E-01 <\n    26    1.057410E-01    1.356065E-01    1.709064E-01    3.206326E-01 <\n    27    1.012571E-01    1.316285E-01    1.693788E-01    3.266247E-01 <\n    28    9.842365E-02    1.279259E-01    1.618035E-01    3.191255E-01 <\n    29    9.675718E-02    1.254609E-01    1.570728E-01    3.217304E-01 <\n    30    9.468161E-02    1.232027E-01    1.535993E-01    3.218633E-01 <\n    31    9.091298E-02    1.186561E-01    1.547275E-01    3.292451E-01 <\n    32    8.790470E-02    1.150860E-01    1.524782E-01    3.316463E-01 <\n    33    8.672478E-02    1.130763E-01    1.526426E-01    3.305883E-01 <\n    34    8.500611E-02    1.102455E-01    1.519836E-01    3.299480E-01 <\n    35    8.479232E-02    1.082253E-01    1.463407E-01    3.178461E-01 <\n    36    8.169747E-02    1.051271E-01    1.445990E-01    3.226956E-01 <\n    37    7.979555E-02    1.028396E-01    1.434870E-01    3.261476E-01 <\n    38    7.796677E-02    1.008027E-01    1.429568E-01    3.299794E-01 <\n    39    7.161204E-02    9.498227E-02    1.414619E-01    3.412207E-01 <\n    40    6.730002E-02    9.152349E-02    1.397714E-01    3.489833E-01 <\n    41    6.540583E-02    8.922290E-02    1.386716E-01    3.429895E-01 <\n    42    6.455911E-02    8.827619E-02    1.385120E-01    3.420770E-01 <\n    43    6.356927E-02    8.687338E-02    1.371189E-01    3.376923E-01 <\n    44    6.177208E-02    8.391633E-02    1.306612E-01    3.285477E-01 <\n    45    6.013807E-02    8.149887E-02    1.260649E-01    3.163611E-01 <\n    46    5.951713E-02    8.001878E-02    1.228981E-01    3.126867E-01 <\n    47    5.892965E-02    7.830005E-02    1.218103E-01    3.095145E-01 <\n    48    5.817940E-02    7.798068E-02    1.220151E-01    2.963245E-01 <\n    49    5.757668E-02    7.595826E-02    1.191439E-01    2.982691E-01 <\n    50    5.678876E-02    7.455080E-02    1.179708E-01    2.985882E-01 <\n    51    5.613813E-02    7.321735E-02    1.152414E-01    2.906109E-01 <\n    52    5.565403E-02    7.228910E-02    1.154172E-01    2.875557E-01 <\n    53    5.464334E-02    7.147265E-02    1.122759E-01    2.803814E-01 <\n    54    5.391777E-02    7.080646E-02    1.109432E-01    2.767933E-01 <\n    55    5.233422E-02    6.933304E-02    1.077846E-01    2.681999E-01 <\n    56    5.153219E-02    6.810150E-02    1.053543E-01    2.622410E-01 <\n    57    5.103890E-02    6.688062E-02    1.030934E-01    2.573930E-01 <\n    58    4.975425E-02    6.577898E-02    1.030330E-01    2.567111E-01 <\n    59    4.950137E-02    6.463726E-02    1.033415E-01    2.560460E-01 <\n    60    4.925930E-02    6.422111E-02    1.035342E-01    2.559417E-01 <\n    61    4.815045E-02    6.316715E-02    1.034313E-01    2.555269E-01 <\n    62    4.659115E-02    6.151989E-02    1.007478E-01    2.507340E-01 <\n    63    4.817669E-02    6.284382E-02    1.023534E-01    2.468814E-01 <\n    64    4.603462E-02    6.084306E-02    1.002863E-01    2.489294E-01 <\n    65    4.535109E-02    6.004059E-02    9.951223E-02    2.473509E-01 <\n    66    4.524452E-02    5.944566E-02    9.854106E-02    2.443916E-01 <\n    67    4.483367E-02    5.845298E-02    9.736872E-02    2.422550E-01 <\n    68    4.356581E-02    5.685307E-02    9.492779E-02    2.365112E-01 <\n    69    4.360460E-02    5.601498E-02    9.592055E-02    2.370293E-01 <\n    70    4.284686E-02    5.541076E-02    9.505720E-02    2.376492E-01 <\n    71    4.219778E-02    5.505145E-02    9.494182E-02    2.386558E-01 <\n    72    4.211404E-02    5.483673E-02    9.506665E-02    2.412078E-01 <\n    73    4.173257E-02    5.452433E-02    9.547541E-02    2.421301E-01 <\n    74    4.131124E-02    5.400227E-02    9.603630E-02    2.423328E-01 <\n    75    4.094816E-02    5.337794E-02    9.596879E-02    2.404278E-01 <\n    76    4.026267E-02    5.324056E-02    9.526395E-02    2.419795E-01 <\n    77    4.033611E-02    5.226855E-02    9.456557E-02    2.380504E-01 <\n    78    4.018527E-02    5.203230E-02    9.417978E-02    2.369993E-01 <\n    79    3.993619E-02    5.172693E-02    9.332616E-02    2.367408E-01 <\n    80    3.938316E-02    5.109306E-02    9.346089E-02    2.391522E-01 <\n    81    3.891878E-02    5.062591E-02    9.255224E-02    2.405312E-01 <\n    82    3.849309E-02    5.033127E-02    9.318297E-02    2.429219E-01 <\n    83    3.805269E-02    5.009105E-02    9.336411E-02    2.442040E-01 <\n    84    3.741066E-02    4.965691E-02    9.284106E-02    2.451239E-01 <\n    85    3.681975E-02    4.904987E-02    9.197885E-02    2.449860E-01 <\n    86    3.562243E-02    4.806240E-02    9.064006E-02    2.453661E-01 <\n    87    3.544814E-02    4.807464E-02    8.776541E-02    2.424281E-01 <\n    88    3.510221E-02    4.754108E-02    8.864452E-02    2.437373E-01 <\n    89    3.492640E-02    4.694759E-02    8.593809E-02    2.410074E-01 <\n    90    3.470782E-02    4.661483E-02    8.571261E-02    2.405279E-01 <\n    91    3.442341E-02    4.624191E-02    8.562013E-02    2.400837E-01 <\n    92    3.407301E-02    4.570392E-02    8.578012E-02    2.405339E-01 <\n    93    3.348345E-02    4.494656E-02    8.738192E-02    2.428167E-01 <\n    94    3.384733E-02    4.491038E-02    8.774877E-02    2.493492E-01 <\n    95    3.335121E-02    4.451697E-02    8.721509E-02    2.459341E-01 <\n    96    3.305322E-02    4.415492E-02    8.689533E-02    2.461420E-01 <\n    97    3.284435E-02    4.370899E-02    8.728832E-02    2.474344E-01 <\n    98    3.259969E-02    4.329769E-02    8.690346E-02    2.487659E-01 <\n    99    3.222446E-02    4.273056E-02    8.619024E-02    2.485722E-01 <\n   100    3.149229E-02    4.188571E-02    8.552360E-02    2.473608E-01 <\n\n Training finished.\n\n ----------------------------------------------------------------------\n                            Storing networks                           \n ----------------------------------------------------------------------\n\n Saving the O network to file : O.5t-5t.nn\n Saving the Ti network to file : Ti.5t-5t.nn\n\n                                                                       \n                          2021-11-14  18:28:43                         \n                                                                       \n ======================================================================\n                     Neural Network training done.                     \n ======================================================================\n\u001b[0m\u001b[01;34mexample-good-ann-fits\u001b[0m/  Ti.5t-5t.nn        train.in       train.rngstate\nnn.tar.gz               \u001b[01;36mTiO2.train\u001b[0m@        train.out\nO.5t-5t.nn              TiO2.train.scaled  train.restart\n",
     "output_type": "stream"
    }
   ],
   "execution_count": null
  },
  {
   "cell_type": "markdown",
   "source": "Once training has completed, the ANN potentials for oxygen and titanium are available in `O.5t-5t.nn` and `Ti.5t-5t.nn`.  **Note that ANN potential files are binary and cannot be open in a text editor.** ",
   "metadata": {
    "tags": [],
    "cell_id": "00031-d55c5e63-bd5b-432b-8244-09ac6a4f82ee",
    "deepnote_cell_type": "markdown"
   }
  },
  {
   "cell_type": "code",
   "metadata": {
    "tags": [],
    "cell_id": "00032-0fe69090-5a12-491b-8325-babb37d26949",
    "deepnote_to_be_reexecuted": false,
    "source_hash": "52c17cfd",
    "execution_start": 1636914346195,
    "execution_millis": 165,
    "deepnote_cell_type": "code"
   },
   "source": "%cd /work/",
   "outputs": [
    {
     "name": "stdout",
     "text": "/work\n",
     "output_type": "stream"
    }
   ],
   "execution_count": null
  },
  {
   "cell_type": "markdown",
   "source": "## 3. Inspecting the Training Results",
   "metadata": {
    "tags": [],
    "is_collapsed": false,
    "cell_id": "00033-bfac77a0-1f16-4ac1-a3d9-739086e000c3",
    "deepnote_cell_type": "text-cell-h2"
   }
  },
  {
   "cell_type": "markdown",
   "source": "Was the training successful?  One measure is the performance of the trained potential on the validation set, which is reported for each training epoch on lines that like the following:\n\n\n    N  MAE_train  RMSE_train  MAE_val  RMSE_val  <\n \n\n`N` is the training iteration (or *epoch*), `MAE_train` and `RMSE_train` are the *mean absolute error* and *root mean squared error* on the training set, and `MAE_val` and `RMSE_val` are the same for the validation set.\n\nPlotting the RMSE of both training and validation set together can be helpful to detect overfitting:",
   "metadata": {
    "tags": [],
    "cell_id": "00034-58016b96-aea6-4a12-af19-7a7f6d6acf39",
    "deepnote_cell_type": "markdown"
   }
  },
  {
   "cell_type": "code",
   "metadata": {
    "tags": [],
    "cell_id": "00035-68d72719-6647-447d-b041-cee25992182e",
    "deepnote_to_be_reexecuted": false,
    "source_hash": "4c7acfce",
    "execution_start": 1636914372140,
    "execution_millis": 503,
    "deepnote_cell_type": "code"
   },
   "source": "errors = []\nwith open(\"/work/psi-k-mlip-workshop-2021/02-train/train.out\") as fp:\n  for line in fp:\n    if re.match(\"^ *[0-9].*<$\", line):\n      errors.append([float(a) for a in line.split()[1:-1]])\nerrors = np.array(errors)\nerrors = pd.DataFrame(\n    data=errors, \n    columns=['MAE_train', 'RMSE_train', 'MAE_test', 'RMSE_test'])\nax = errors[['RMSE_train', 'RMSE_test']].plot(logy=True)\nax.set_xlabel(\"Epoch\"); ax.set_ylabel(\"RMSE (eV/atom)\")",
   "outputs": [
    {
     "output_type": "execute_result",
     "execution_count": 14,
     "data": {
      "text/plain": "Text(0, 0.5, 'RMSE (eV/atom)')"
     },
     "metadata": {}
    },
    {
     "data": {
      "text/plain": "<Figure size 432x288 with 1 Axes>",
      "image/png": "[encoded data removed]"
     },
     "metadata": {
      "needs_background": "light",
      "image/png": {
       "width": 410,
       "height": 272
      }
     },
     "output_type": "display_data"
    }
   ],
   "execution_count": null
  },
  {
   "cell_type": "markdown",
   "source": "As seen in the figure, the training-set RMSE continues to decreas long after the test-set RMSE has flattened.  This behavior indicates that the model is overfitting.\n\nOur example uses a very small data set of only ~500 structures, so it is not surprising that overfitting occurs after a few training iterations.\n\nFor comparison, we also prepared a training example for a more complex ANN potential that was trained on the complete TiO$_2$ data set containing ~7,000 data points.",
   "metadata": {
    "tags": [],
    "cell_id": "00036-1f688463-c53c-47b2-9249-1b3e5ea8c81e",
    "deepnote_cell_type": "markdown"
   }
  },
  {
   "cell_type": "code",
   "metadata": {
    "tags": [],
    "cell_id": "00037-c5a9647c-21b1-4080-a072-39f1624d2464",
    "deepnote_to_be_reexecuted": false,
    "source_hash": "e68cbb26",
    "execution_start": 1636914385007,
    "execution_millis": 419,
    "deepnote_cell_type": "code"
   },
   "source": "errors = []\nwith open(\"/work/psi-k-mlip-workshop-2021/02-train/example-good-ann-fits/set001/fit-01.dat\") as fp:\n  for line in fp:\n    if re.match(\"^ *[0-9].*<$\", line):\n      errors.append([float(a) for a in line.split()[1:-1]])\nerrors = np.array(errors)\nerrors = pd.DataFrame(\n    data=errors, \n    columns=['MAE_train', 'RMSE_train', 'MAE_test', 'RMSE_test'])\nax = errors[['RMSE_train', 'RMSE_test']].plot(logy=True)\nax.set_xlabel(\"Epoch\"); ax.set_ylabel(\"RMSE (eV/atom)\")\nplt.show()",
   "outputs": [
    {
     "data": {
      "text/plain": "<Figure size 432x288 with 1 Axes>",
      "image/png": "[encoded data removed]"
     },
     "metadata": {
      "needs_background": "light",
      "image/png": {
       "width": 414,
       "height": 272
      }
     },
     "output_type": "display_data"
    }
   ],
   "execution_count": null
  },
  {
   "cell_type": "markdown",
   "source": "`train.x` can export the errors for all training samples in the training and validation sets.  Here, we visualize the results for one example (set003).",
   "metadata": {
    "tags": [],
    "cell_id": "00038-d72e911b-9f8f-4ae8-80f3-ff745ae1ef8f",
    "deepnote_cell_type": "markdown"
   }
  },
  {
   "cell_type": "code",
   "metadata": {
    "tags": [],
    "cell_id": "00039-690b1069-5bfb-4be3-a565-252b43c4865b",
    "deepnote_to_be_reexecuted": false,
    "source_hash": "97208aca",
    "execution_start": 1636914390090,
    "execution_millis": 278,
    "deepnote_cell_type": "code"
   },
   "source": "test = \"/work/psi-k-mlip-workshop-2021/02-train/example-good-ann-fits/set003/energies.test.0\"\ntest_errors = np.loadtxt(test, skiprows=1, usecols=(3,4))\nplt.plot(np.linspace(-9, 0), np.linspace(-9, 0), color=\"black\")\nplt.scatter(test_errors[:,0], test_errors[:,1], color=\"red\", s=60, label=\"validation\")\nplt.xlabel('DFT (eV/atom)')\nplt.ylabel('ANN (eV/atom)')\nplt.show()",
   "outputs": [
    {
     "data": {
      "text/plain": "<Figure size 432x288 with 1 Axes>",
      "image/png": "[encoded data removed]"
     },
     "metadata": {
      "needs_background": "light",
      "image/png": {
       "width": 397,
       "height": 272
      }
     },
     "output_type": "display_data"
    }
   ],
   "execution_count": null
  },
  {
   "cell_type": "markdown",
   "source": "## 4. The ænet-Python Interface",
   "metadata": {
    "tags": [],
    "is_collapsed": false,
    "cell_id": "00040-ef8a2f30-d0bc-45f8-9441-ad0ec0e7896e",
    "deepnote_cell_type": "text-cell-h2"
   }
  },
  {
   "cell_type": "markdown",
   "source": "Trained ænet ANN potentials can be used with a number of standard simulations packages.  Here we will take a look at the ænet Python interface, which enables compatibility with the Atomic Simulation Environment (ase, see above).",
   "metadata": {
    "tags": [],
    "cell_id": "00041-ad7a32b2-e47e-487f-a2cf-3e0009e82e9f",
    "deepnote_cell_type": "markdown"
   }
  },
  {
   "cell_type": "code",
   "metadata": {
    "tags": [],
    "cell_id": "00042-5b9a194d-4ef8-41d8-ad8d-fc6d56a83b1f",
    "deepnote_to_be_reexecuted": false,
    "source_hash": "f2a229b3",
    "execution_start": 1636915791547,
    "execution_millis": 0,
    "deepnote_cell_type": "code"
   },
   "source": "import aenet\n\ntry:\n    from aenet.ase_calculator import ANNCalculator\nexcept ModuleNotFoundError:\n    ! pip install cython\n    ! cd /work/aenet/python3 && python3 setup.py build_ext --inplace\n    ! cd /work/aenet/python3 && pip install -e . --user\n    print(\"Please restart this notebook.\")\n    import os\n    os.kill(os.getpid(), 9)\n\nimport ase\nimport ase.spacegroup\nimport ase.visualize\nimport numpy as np\nimport pandas as pd\nimport re\nfrom IPython.display import Image\n%matplotlib inline\nimport matplotlib.pyplot as plt\nplt.rcParams.update({\"font.size\": 15})\nplt.close(\"all\")",
   "execution_count": 28,
   "outputs": []
  },
  {
   "cell_type": "markdown",
   "source": "We create a new directory and copy the trained potentials into it.",
   "metadata": {
    "tags": [],
    "cell_id": "00043-c68cde47-6291-4bd9-b51a-9e1a6c0f7578",
    "deepnote_cell_type": "markdown"
   }
  },
  {
   "cell_type": "code",
   "metadata": {
    "tags": [],
    "cell_id": "00044-659cd73a-a178-44c4-8832-19179bcb8aae",
    "deepnote_to_be_reexecuted": false,
    "source_hash": "67dde9fe",
    "execution_start": 1636915795425,
    "execution_millis": 998,
    "deepnote_cell_type": "code"
   },
   "source": "%cd /work/psi-k-mlip-workshop-2021/04-aenetLib-ann-md\n%ls",
   "execution_count": 29,
   "outputs": [
    {
     "name": "stdout",
     "text": "/work/psi-k-mlip-workshop-2021/04-aenetLib-ann-md\nfit-01.dat               \u001b[0m\u001b[01;32mO.40t-40t.nn\u001b[0m*   rutile-eos.traj  rutile.traj\nfit-01-get-energies.dat  rutile-eos.png  rutile.png       \u001b[01;32mTi.40t-40t.nn\u001b[0m*\n",
     "output_type": "stream"
    }
   ]
  },
  {
   "cell_type": "markdown",
   "source": "Next, we create an ase structure object with the TiO2 rutile structure. We could have also read this structure from an input file.\n",
   "metadata": {
    "tags": [],
    "cell_id": "00045-36aea0d9-d530-493b-b405-4af177a32cb0",
    "deepnote_cell_type": "markdown"
   }
  },
  {
   "cell_type": "code",
   "metadata": {
    "tags": [],
    "cell_id": "00043-6a941b07-a694-4c7f-8ae5-3fbe797e5c9f",
    "deepnote_to_be_reexecuted": false,
    "source_hash": "921bd32c",
    "execution_start": 1636915799247,
    "execution_millis": 43,
    "deepnote_cell_type": "code"
   },
   "source": "a = 4.6\nc = 2.95\natoms = ase.spacegroup.crystal(\n    ['Ti', 'O'], basis=[(0, 0, 0), (0.3, 0.3, 0.0)],\n    spacegroup=136, cellpar=[a, a, c, 90, 90, 90])\nase.io.write('rutile.traj', atoms)\nase.io.write('rutile.png', atoms)\nImage(\"rutile.png\")\n#ase.visualize.view(atoms, viewer='x3d')",
   "execution_count": 30,
   "outputs": [
    {
     "output_type": "execute_result",
     "execution_count": 30,
     "data": {
      "image/png": "[encoded data removed]",
      "text/plain": "<IPython.core.display.Image object>"
     },
     "metadata": {
      "image/png": {
       "width": 130,
       "height": 130
      }
     }
    }
   ]
  },
  {
   "cell_type": "markdown",
   "source": "The ænet Python package provides an ASE *Calculator* class that can load ænet ANN potentials.  In this case, we use the ANN potential from: \n\n`02-train > example-good-ann-fits > set003`",
   "metadata": {
    "tags": [],
    "cell_id": "00044-9be66919-b2a2-4cdf-8e0b-f04826fd2b44",
    "deepnote_cell_type": "markdown"
   }
  },
  {
   "cell_type": "code",
   "metadata": {
    "tags": [],
    "cell_id": "00044-cc2c0139-a948-4b6e-ab26-9ef08fff3faf",
    "deepnote_to_be_reexecuted": false,
    "source_hash": "6227a3af",
    "execution_start": 1636915802738,
    "execution_millis": 4,
    "deepnote_cell_type": "code"
   },
   "source": "pot = {\"Ti\": \"/work/psi-k-mlip-workshop-2021/02-train/example-good-ann-fits/set003/Ti.40t-40t.nn\", \n       \"O\": \"/work/psi-k-mlip-workshop-2021/02-train/example-good-ann-fits/set003/O.40t-40t.nn\"}\n\n# delete old calculator if any is present\nif calc and hasattr(calc, 'ann'):\n    del calc.ann\n\ncalc = ANNCalculator(pot)",
   "execution_count": 31,
   "outputs": []
  },
  {
   "cell_type": "markdown",
   "source": "This calculator can then be used to predict energies (and atomic forces) for a given atomic structure.",
   "metadata": {
    "tags": [],
    "cell_id": "00046-9ff5f0d0-cfb7-40d7-a67e-e4a43d811f44",
    "deepnote_cell_type": "markdown"
   }
  },
  {
   "cell_type": "code",
   "metadata": {
    "tags": [],
    "cell_id": "00047-54e08798-0013-47db-b0af-711492ff17d9",
    "deepnote_to_be_reexecuted": false,
    "source_hash": "570db132",
    "execution_start": 1636915806486,
    "execution_millis": 201,
    "deepnote_cell_type": "code"
   },
   "source": "atoms.set_calculator(calc)\nE = atoms.get_potential_energy()\nprint(\"Total energy = {} eV\".format(E))",
   "execution_count": 32,
   "outputs": [
    {
     "name": "stdout",
     "text": "Total energy = -4990.38881622236 eV\n",
     "output_type": "stream"
    }
   ]
  },
  {
   "cell_type": "code",
   "metadata": {
    "tags": [],
    "cell_id": "00048-adb954c2-7cb1-4444-aefc-d26e2a41a106",
    "deepnote_to_be_reexecuted": false,
    "source_hash": "70aaea55",
    "execution_start": 1636915809140,
    "execution_millis": 2,
    "deepnote_cell_type": "code"
   },
   "source": "%cd /work",
   "execution_count": 33,
   "outputs": [
    {
     "name": "stdout",
     "text": "/work\n",
     "output_type": "stream"
    }
   ]
  },
  {
   "cell_type": "markdown",
   "source": "## 5. Python/ASE Example: Equation of States",
   "metadata": {
    "tags": [],
    "is_collapsed": false,
    "cell_id": "00049-f3d66325-d218-4717-b2cb-1a9bacfb5bd5",
    "deepnote_cell_type": "text-cell-h2"
   }
  },
  {
   "cell_type": "markdown",
   "source": "In this example, we use the `ANNCalculator` and ASE to compute the equation of states of rutile TiO$_2$.",
   "metadata": {
    "tags": [],
    "cell_id": "00050-3d0ea856-6d1a-403c-8cc7-fb8db7e53f2f",
    "deepnote_cell_type": "markdown"
   }
  },
  {
   "cell_type": "code",
   "metadata": {
    "tags": [],
    "cell_id": "00053-add82678-ccab-47fc-a065-bf105d902a48",
    "deepnote_to_be_reexecuted": false,
    "source_hash": "40fbb3de",
    "execution_start": 1636915812659,
    "execution_millis": 9,
    "deepnote_cell_type": "code"
   },
   "source": "%cd /work/psi-k-mlip-workshop-2021/04-aenetLib-ann-md",
   "execution_count": 34,
   "outputs": [
    {
     "name": "stdout",
     "text": "/work/psi-k-mlip-workshop-2021/04-aenetLib-ann-md\n",
     "output_type": "stream"
    }
   ]
  },
  {
   "cell_type": "markdown",
   "source": "First, we sample the potential energy around for unit cells with slightly smaller and slightly larger lattice parameters.",
   "metadata": {
    "tags": [],
    "cell_id": "00054-5903f765-e255-4ecd-91e2-bb12747fb31a",
    "deepnote_cell_type": "markdown"
   }
  },
  {
   "cell_type": "code",
   "metadata": {
    "tags": [],
    "cell_id": "00055-535527cc-3331-4a77-958a-cd28c3570d78",
    "deepnote_to_be_reexecuted": false,
    "source_hash": "24d2379a",
    "execution_start": 1636915855790,
    "execution_millis": 2071,
    "deepnote_cell_type": "code"
   },
   "source": "from ase.io.trajectory import Trajectory\n\n# delete old calculator if any is present\nif calc and hasattr(calc, 'ann'):\n    del calc.ann\n\npot = {\"Ti\": \"/work/psi-k-mlip-workshop-2021/02-train/example-good-ann-fits/set003/Ti.40t-40t.nn\", \n        \"O\": \"/work/psi-k-mlip-workshop-2021/02-train/example-good-ann-fits/set003/O.40t-40t.nn\"}\ncalc = ANNCalculator(pot)\neos_atoms = atoms.copy()\neos_atoms.set_calculator(calc)\ncell = eos_atoms.get_cell()\ntraj = Trajectory('rutile-eos.traj', 'w')\nfor x in np.linspace(0.98, 1.04, 8):\n    eos_atoms.set_cell(cell * x, scale_atoms=True)\n    eos_atoms.get_potential_energy()\n    traj.write(eos_atoms)",
   "execution_count": 39,
   "outputs": []
  },
  {
   "cell_type": "markdown",
   "source": "This has produced the *trajectory* file `rutile-eos.traj`.\n\nNext, we read the trajectory file and fit an analytical equation of states to the data points.",
   "metadata": {
    "tags": [],
    "cell_id": "00056-b8a20c10-746b-448a-81e0-d893d963e072",
    "deepnote_cell_type": "markdown"
   }
  },
  {
   "cell_type": "code",
   "metadata": {
    "tags": [],
    "cell_id": "00057-36dd6f0d-60e7-488f-a916-bd182a17f0ce",
    "deepnote_to_be_reexecuted": false,
    "source_hash": "6313899b",
    "execution_start": 1636915830467,
    "execution_millis": 421,
    "deepnote_cell_type": "code"
   },
   "source": "from ase.units import kJ\nfrom ase.eos import EquationOfState\nconfigs = ase.io.read('rutile-eos.traj@0:')  # read 5 configurations\nvolumes = [c.get_volume() for c in configs]\nenergies = [c.get_potential_energy() for c in configs]\neos = EquationOfState(volumes, energies)\nv0, e0, B = eos.fit()\nplt.rcParams.update({\"font.size\": 15})\nplt.rcParams.update({\"axes.titlesize\": 14})\nax = eos.plot('rutile-eos.png')\nax.ticklabel_format(useOffset=False)\nplt.show()",
   "execution_count": 36,
   "outputs": [
    {
     "data": {
      "text/plain": "<Figure size 432x288 with 1 Axes>",
      "image/png": "[encoded data removed]"
     },
     "metadata": {
      "needs_background": "light",
      "image/png": {
       "width": 447,
       "height": 300
      }
     },
     "output_type": "display_data"
    }
   ]
  },
  {
   "cell_type": "markdown",
   "source": "The bulk modulus as predicted by density functional theory (the reference method for our ANN potential) is 235 GPa.",
   "metadata": {
    "tags": [],
    "cell_id": "00058-faecd556-dcde-45d7-b175-7ecf125b1326",
    "deepnote_cell_type": "markdown"
   }
  },
  {
   "cell_type": "code",
   "metadata": {
    "tags": [],
    "cell_id": "00059-5fba2d14-ee00-42ae-96e6-7df16ffc742b",
    "deepnote_to_be_reexecuted": false,
    "source_hash": "52c17cfd",
    "execution_start": 1636903398834,
    "execution_millis": 2,
    "deepnote_cell_type": "code"
   },
   "source": "%cd /work/",
   "execution_count": null,
   "outputs": [
    {
     "name": "stdout",
     "text": "/work\n",
     "output_type": "stream"
    }
   ]
  },
  {
   "cell_type": "markdown",
   "source": "## 6. MD Simulations with the ænet-LAMMPS Interface",
   "metadata": {
    "tags": [],
    "is_collapsed": false,
    "cell_id": "00060-38d3c36e-6fca-42d7-9e38-f4a8fdaa69bb",
    "deepnote_cell_type": "text-cell-h2"
   }
  },
  {
   "cell_type": "markdown",
   "source": "**Example usage of the ænet-LAMMPS interface for molecular dynamics simulations with artificial neural network (ANN) potentials.**\n\nIf you make use of the aenet-LAMMPS interface, please cite the following reference:\n\nM.S. Chen, T. Morawietz, H. Mori, T.E. Markland, N. Artrith, AENET-LAMMPS and AENET-TINKER: Interfaces for Accurate and Efficient Molecular Dynamics Simulations with Machine Learning Potentials, J. Chem. Phys. **155**, 074801 (2021). doi: https://doi.org/10.1063/5.0063880\n\nPreprint (Preprint where the data is discussed)\narXiv (2021) doi: https://arxiv.org/abs/2107.11311\n\nThe database can be obtained from the Materials Cloud repository, DOI: https://doi.org/10.24435/materialscloud:dx-ct\n\nTutorial: https://github.com/atomisticnet/aenet-lammps/tutorial",
   "metadata": {
    "tags": [],
    "cell_id": "00061-e8e392f6-5dca-4072-960e-e289f9e9d43e",
    "deepnote_cell_type": "markdown"
   }
  },
  {
   "cell_type": "markdown",
   "source": "### Simulation of liquid water (H2O)",
   "metadata": {
    "tags": [],
    "is_collapsed": false,
    "cell_id": "00062-5031024c-0608-405e-8d54-9980a32306c4",
    "deepnote_cell_type": "text-cell-h3"
   }
  },
  {
   "cell_type": "markdown",
   "source": "An example LAMMPS molecular dynamics simulation of liquid water with an ænet ANN potential is provided as part of the ænet-LAMMPS package.\n\nFirst we need to make sure that the ænet library file can be dynamically linked when we run LAMMPS.",
   "metadata": {
    "tags": [],
    "cell_id": "00063-d323a818-d2eb-4870-b69c-f24bb054b2c2",
    "deepnote_cell_type": "markdown"
   }
  },
  {
   "cell_type": "code",
   "metadata": {
    "tags": [],
    "cell_id": "00064-2cdc12fe-9e50-4efb-823a-523a02afd168",
    "deepnote_to_be_reexecuted": false,
    "source_hash": "b0c833d5",
    "execution_start": 1636903537420,
    "execution_millis": 535,
    "deepnote_cell_type": "code"
   },
   "source": "%env LD_LIBRARY_PATH=/work/lammps-4Feb20/lib/aenet/lib\n!echo $LD_LIBRARY_PATH",
   "execution_count": null,
   "outputs": [
    {
     "name": "stdout",
     "text": "env: LD_LIBRARY_PATH=/work/lammps-4Feb20/lib/aenet/lib\n/work/lammps-4Feb20/lib/aenet/lib\n",
     "output_type": "stream"
    }
   ]
  },
  {
   "cell_type": "markdown",
   "source": "Below, we run a short example simulation. The parameters of the simulation are specified in the LAMMPS input file `md.lmp`",
   "metadata": {
    "tags": [],
    "cell_id": "00065-0e645791-5da5-4168-8479-b64eb0afb814",
    "deepnote_cell_type": "markdown"
   }
  },
  {
   "cell_type": "code",
   "metadata": {
    "tags": [],
    "cell_id": "00062-13460934-e9a0-43ef-839c-dd52f721b2df",
    "deepnote_to_be_reexecuted": false,
    "source_hash": "6edf8279",
    "execution_start": 1636903541396,
    "execution_millis": 312,
    "deepnote_cell_type": "code"
   },
   "source": "%cd /work/psi-k-mlip-workshop-2021/05-aenet-lammps-water\n!cat md.lmp",
   "execution_count": null,
   "outputs": [
    {
     "name": "stdout",
     "text": "/work/psi-k-mlip-workshop-2021/05-aenet-lammps-water\n###############################################################################\n# MD simulation for H2O with NN potential\n###############################################################################\n\n###############################################################################\n# VARIABLES\n###############################################################################\nclear\nvariable dt              equal  0.0005                                                  # timestep (0.5fs)\nvariable intThermo       equal  4                                                       # screen output interval (timesteps)\nvariable intRestart      equal  4                                                       # restart file interval (timesteps)\nvariable mass1           equal  1.007825                                                # mass for element 1 (H)  (amu)\nvariable mass2           equal  15.994915                                               # mass for element 2 (O)  (amu)\nvariable nameStartCfg    string \"01_Start/firstframe.start\"\t\t\t        # name of the starting configuration file\nvariable nameRestart1    string \"02_Traj/swap1.res\"                                     # name of restart file 1\nvariable nameRestart2    string \"02_Traj/swap2.res\"                                     # name of restart file 2\nvariable nameRestartEnd2 string \"02_Traj/endcfg_run.res\"                                # name of final state restart file\n\n# set initial velocity distribution\nvariable initTemp        equal  300.0                                                   # initial temperature (K)\nvariable velSeed         equal  4928459                                                 # seed for random number generator\n\n# NVT integrator (Nose-Hoover)\nvariable tDamp           equal  1.0                                                     # thermostat damping factor (fs)\n\n# dump xyz trajectory file\nvariable intDumpXYZ      equal  4                                                       # xyz dump file interval (timesteps)\nvariable nameDumpXYZ     string \"02_Traj/traj.xyz\"                                      # xyz file name\n\n# dump velocities trajectory file\nvariable intDumpVelos    equal  4                                                       # velocities dump file interval (timesteps)\nvariable nameDumpVelos   string \"02_Traj/velocities.xyz\"                                # velocities file name\n\n# dump forces trajectory file\nvariable intDumpForces    equal 4                                                       # forces dump file interval (timesteps)\nvariable nameDumpForces   string \"02_Traj/forces.xyz\"                                   # forces file name\n\n# physical constants\nvariable Na              equal 6.02214\n\n# dump thermodynamic properties (temperature, pressure, potential energy, kinetic energy, integrator quantity)\nvariable intTD           equal  4                                                       # thermodynamics dump file interval (timesteps)\nvariable varVolume       equal  vol                                                     # variable required to print volume\nvariable varKE           equal  ke                                                      # variable required to print kinetic energy\nvariable varDensity      equal mass(all)/vol*10/${Na}\nvariable varCell         equal  lx\nvariable intMomentum     equal  100\n###############################################################################\n# SETUP\n###############################################################################\nunits metal\nboundary p p p                                                                          # set periodic boundary conditions\natom_style atomic                                                                       # set atomic style for particles\nread_data ${nameStartCfg}                                                               # read start configuration\nreset_timestep 0\n\n#\nmass 1 ${mass1}                                                                         # set mass for element 1\nmass 2 ${mass2}                                                                         # set mass for element 2\npair_style aenet H.ann O.ann \npair_coeff * *\n\ntimestep ${dt}                                                                          # set timestep\nrestart ${intRestart} ${nameRestart1} ${nameRestart2}                                   # write alternating binary restart files\ndump XYZ all xyz ${intDumpXYZ} ${nameDumpXYZ}                                           # set up xyz dump\ndump_modify XYZ first yes sort id                                                       # modify xyz dump\ndump VELOS all custom ${intDumpVelos} ${nameDumpVelos} type vx vy vz                    # set up velos dump\ndump_modify VELOS first yes sort id                                                     # modify velos dump\ndump FORCES all custom ${intDumpForces} ${nameDumpForces} type fx fy fz                 # set up forces dump\ndump_modify FORCES first yes sort id                                                    # modify forces dump\nthermo ${intThermo}                                                                     # set screen output\n###############################################################################\n# SIMULATION\n###############################################################################\n# run at 300K for 50 fs\nreset_timestep 0\nvariable numSteps        equal  100                                                  # total number of simulation timesteps (timesteps)\nvariable startTemp       equal  300.0                                                   # starting temperature for thermostat (K)\nvariable stopTemp        equal  300.0                                                   # final temperature for thermostat (K)\nvelocity all create ${initTemp} ${velSeed}                                              # create initial velocities\nfix INT all nve\t\t\t\t\t\t\t\t\t\t# set up integrator\nfix THER all temp/csvr ${startTemp} ${stopTemp} ${tDamp} 54324\t\t\t\t# set up thermostat\nfix MOMENTUM all momentum ${intMomentum} linear 1 1 1                                   # periodically reset total momentum\ncompute thermo2_temp all temp\nvariable nameTD_frames  string \"02_Traj/analysis_frames.dat\"\t\t\t\t# thermodynamics file name\nfix AVE_TD_frames all ave/time ${intTD} 1 ${intTD} c_thermo2_temp c_thermo_press v_varCell v_varVolume c_thermo_pe v_varDensity v_varKE file ${nameTD_frames} mode scalar format %18.8f      # set up thermodynamic properties output\nvariable nameTD_cummul string \"02_Traj/analysis_cummul.dat\"\t\t\t\t# thermodynamics file name\nfix AVE_TD_cummul all ave/time ${intTD} 1 ${intTD} c_thermo2_temp c_thermo_press v_varCell v_varVolume c_thermo_pe v_varDensity v_varKE file ${nameTD_cummul} ave running format %18.8f      # set up thermodynamic properties output\nrun ${numSteps}                                                                         # RUN SIMULATION\nwrite_restart ${nameRestartEnd2}                                                        # write final configuration (binary)\n###############################################################################\n# CLEAN UP\n###############################################################################\nundump XYZ\nundump VELOS\nundump FORCES\nunfix AVE_TD_frames\nunfix AVE_TD_cummul\nunfix MOMENTUM\nunfix THER\nunfix INT\n###############################################################################\n",
     "output_type": "stream"
    }
   ]
  },
  {
   "cell_type": "markdown",
   "source": "In brief, the conditions of the simulation are:\n\n* NVT simulation of liquid water at 300K\n* Initial frame specified by 01_Start/firstframe.start file (64 water molecules in box with side lengths of 12.417 Angstroms)\n* H.ann and O.ann are the ænet ANN potential files\n* Simulation runs for 100 steps with 0.5 fs spacing between steps and writing out properties every 2.0fs\n* Input file flags the use of the \"<a href=\"https://docs.lammps.org/units.html\">metal</a>\" unit system since the ANN potential was trained using eV units for energies and Angstroms units for positions.\n* Positions, velocities, forces, and energies are written out to files in the 02_Traj folder (traj.xyz, velocities.xyz, forces.xyz, and analysis_frames.dat respectively)\n\nNote that the file names of the ænet potentials are specified on the line\n\n    pair_style aenet H.ann O.ann \n\n\nThe actual simulations is run in the following cell.",
   "metadata": {
    "tags": [],
    "cell_id": "00062-f51c2ca0-9d48-4b30-9235-681ff4bcca09",
    "deepnote_cell_type": "markdown"
   }
  },
  {
   "cell_type": "code",
   "metadata": {
    "tags": [],
    "cell_id": "00065-a101d5c2-35d3-45ce-9c50-f9a63975d173",
    "deepnote_to_be_reexecuted": false,
    "source_hash": "17d2e178",
    "execution_start": 1636903552784,
    "execution_millis": 12276,
    "deepnote_cell_type": "code"
   },
   "source": "!/work/lammps-4Feb20/src/lmp_mpi -in md.lmp",
   "execution_count": null,
   "outputs": [
    {
     "name": "stdout",
     "text": "LAMMPS (4 Feb 2020)\nReading data file ...\n  orthogonal box = (0 0 0) to (12.4171 12.4171 12.4171)\n  1 by 1 by 1 MPI processor grid\n  reading atoms ...\n  192 atoms\n  read_data CPU = 0.00317976 secs\nNeighbor list info ...\n  update every 1 steps, delay 10 steps, check yes\n  max neighbors/atom: 2000, page size: 100000\n  master list distance cutoff = 8.35\n  ghost atom cutoff = 8.35\n  binsize = 4.175, bins = 3 3 3\n  1 neighbor lists, perpetual/occasional/extra = 1 0 0\n  (1) pair aenet, perpetual\n      attributes: full, newton on\n      pair build: full/bin/atomonly\n      stencil: full/bin/3d\n      bin: standard\nSetting up Verlet run ...\n  Unit style    : metal\n  Current step  : 0\n  Time step     : 0.0005\nPer MPI rank memory allocation (min/avg/max) = 6.705 | 6.705 | 6.705 Mbytes\nStep Temp E_pair E_mol TotEng Press \n       0          300   -30056.194            0   -30048.787   -4138.7878 \n       4    311.16524   -30056.471            0   -30048.789   -2680.0645 \n       8    325.61646   -30056.821            0   -30048.782    4949.5629 \n      12    310.57226   -30056.474            0   -30048.806    8251.7059 \n      16    315.26274   -30056.585            0   -30048.801    2446.1663 \n      20    306.02986    -30056.37            0   -30048.815   -2670.3051 \n      24    329.91611   -30056.977            0   -30048.832   -740.68931 \n      28    330.23232   -30057.005            0   -30048.852    5347.1609 \n      32    319.03827   -30056.716            0    -30048.84    6956.5274 \n      36    316.10423   -30056.657            0   -30048.853    3009.7582 \n      40    299.62656   -30056.248            0    -30048.85    571.70686 \n      44     326.0215   -30056.911            0   -30048.862    545.76778 \n      48    312.05352   -30056.516            0   -30048.812    3383.9577 \n      52    318.83778   -30056.654            0   -30048.782    4847.6457 \n      56    300.95386   -30056.155            0   -30048.725    6217.3848 \n      60    302.54665   -30056.278            0   -30048.808    4371.6857 \n      64      304.476   -30056.331            0   -30048.814    2679.8174 \n      68    300.04551   -30056.189            0   -30048.781    3053.4613 \n      72    314.64045   -30056.534            0   -30048.766     5653.102 \n      76    293.68455   -30055.993            0   -30048.742    8959.0566 \n      80    324.65481   -30056.783            0   -30048.768     5872.407 \n      84    305.23793   -30056.259            0   -30048.723    3076.0805 \n      88    324.61769   -30056.773            0   -30048.759    1100.5434 \n      92    311.16735   -30056.459            0   -30048.777    4735.5056 \n      96    308.70087   -30056.388            0   -30048.767    8820.4214 \n     100    320.68558   -30056.668            0   -30048.751    7659.6949 \nLoop time of 11.0985 on 1 procs for 100 steps with 192 atoms\n\nPerformance: 0.389 ns/day, 61.659 hours/ns, 9.010 timesteps/s\n78.3% CPU use with 1 MPI tasks x no OpenMP threads\n\nMPI task timing breakdown:\nSection |  min time  |  avg time  |  max time  |%varavg| %total\n---------------------------------------------------------------\nPair    | 10.902     | 10.902     | 10.902     |   0.0 | 98.23\nNeigh   | 0.05738    | 0.05738    | 0.05738    |   0.0 |  0.52\nComm    | 0.0029924  | 0.0029924  | 0.0029924  |   0.0 |  0.03\nOutput  | 0.13185    | 0.13185    | 0.13185    |   0.0 |  1.19\nModify  | 0.0039188  | 0.0039188  | 0.0039188  |   0.0 |  0.04\nOther   |            | 0.0006422  |            |       |  0.01\n\nNlocal:    192 ave 192 max 192 min\nHistogram: 1 0 0 0 0 0 0 0 0 0\nNghost:    2302 ave 2302 max 2302 min\nHistogram: 1 0 0 0 0 0 0 0 0 0\nNeighs:    0 ave 0 max 0 min\nHistogram: 1 0 0 0 0 0 0 0 0 0\nFullNghs:  46754 ave 46754 max 46754 min\nHistogram: 1 0 0 0 0 0 0 0 0 0\n\nTotal # of neighbors = 46754\nAve neighs/atom = 243.51\nNeighbor list builds = 25\nDangerous builds = 0\nSystem init for write_restart ...\nTotal wall time: 0:00:11\n",
     "output_type": "stream"
    }
   ]
  },
  {
   "cell_type": "code",
   "metadata": {
    "tags": [],
    "cell_id": "00065-5646c1f1-de8c-4228-8298-66706f7fa119",
    "deepnote_cell_type": "code"
   },
   "source": "",
   "execution_count": null,
   "outputs": []
  },
  {
   "cell_type": "markdown",
   "source": "<a style='text-decoration:none;line-height:16px;display:flex;color:#5B5B62;padding:10px;justify-content:end;' href='https://deepnote.com?utm_source=created-in-deepnote-cell&projectId=bfabd374-f7a6-40fd-b4f0-3c25f442361e' target=\"_blank\">\n<img alt='Created in deepnote.com' style='display:inline;max-height:16px;margin:0px;margin-right:7.5px;' src='data:image/svg+xml;base64,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' > </img>\nCreated in <span style='font-weight:600;margin-left:4px;'>Deepnote</span></a>",
   "metadata": {
    "tags": [],
    "created_in_deepnote_cell": true,
    "deepnote_cell_type": "markdown"
   }
  }
 ],
 "nbformat": 4,
 "nbformat_minor": 2,
 "metadata": {
  "orig_nbformat": 2,
  "deepnote": {
   "is_reactive": false
  },
  "deepnote_notebook_id": "23413e13-c096-4ea0-92a4-363cc0473b79",
  "deepnote_execution_queue": []
 }
}