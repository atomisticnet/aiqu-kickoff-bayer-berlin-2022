{
 "cells": [
  {
   "cell_type": "markdown",
   "source": "# ænet Tutorial",
   "metadata": {
    "tags": [],
    "is_collapsed": false,
    "cell_id": "00000-f1697167-502a-4770-ad03-53e637af1c5a",
    "deepnote_cell_type": "text-cell-h1"
   }
  },
  {
   "cell_type": "markdown",
   "source": "The materials for this tutorial are available in the following GitHub repository: https://github.com/atomisticnet/psi-k-mlip-workshop-2021\n\n**If you make use of ænet, please cite the following references as appropriate:**\n\nA more in-depth tutorial for the construction of ANN potentials can be found in:\n\nA.M. Miksch, T. Morawietz, J. Kästner, A. Urban, N. Artrith, “Strategies for the Construction of Machine-Learning Potentials for Accurate and Efficient Atomic-Scale Simulations”, [*Mach. Learn.: Sci. Technol.* **2** (2021) 031001](https://doi.org/10.1088/2632-2153/abfd96). \n\nThe atomic energy network (ænet) package: http://ann.atomistic.net\n\n[N. Artrith and A. Urban, *Comput. Mater. Sci.* **114** (2016) 135-150.](http://dx.doi.org/10.1016/j.commatsci.2015.11.047)<br/>\n[N. Artrith, A. Urban, and G. Ceder, *Phys. Rev. B* **96** (2017) 014112.](http://dx.doi.org/10.1103/PhysRevB.96.014112)\n\nThe ænet-LAMMPS interface:\n\n[M. S. Chen, T. Morawietz, H. Mori, T. E. Markland, and N. Artrith, *J. Chem. Phys.* **155** (2021) 074801.](https://doi.org/10.1063/5.0063880)\n\nThe atomic simulation environment (ASE): https://wiki.fysik.dtu.dk/ase/\n\n[A. H. Larsen et al., *J. Phys.: Condens. Matter* **29** (2017) 273002.](https://doi.org/10.1088/1361-648X/aa680e)\n\nThe Large-scale Atomic/Molecular Massively Parallel Simulator (LAMMPS): https://www.lammps.org\n\n[A. P. Thompson et al., Comp. Phys. Commun. 271 (2022) 10817.](https://doi.org/10.1016/j.cpc.2021.108171)\n\nContact: N. Artrith (n.artrith@uu.nl), M. S. Chen (misch@stanford.edu), A. M. Miksch (miksch@theochem.uni-stuttgart.de), A. Urban (a.urban@columbia.edu)",
   "metadata": {
    "tags": [],
    "cell_id": "00001-35e2b6e7-48ed-47ba-8e63-741420dcf6ca",
    "deepnote_cell_type": "markdown"
   }
  },
  {
   "cell_type": "markdown",
   "source": "The notebook might have to be restarted to activate the packages that we just installed.  Try to run the following cell.",
   "metadata": {
    "tags": [],
    "cell_id": "00006-7eeb9152-ac55-43b1-a16c-89511a2cb718",
    "deepnote_cell_type": "markdown"
   }
  },
  {
   "cell_type": "code",
   "metadata": {
    "tags": [],
    "cell_id": "00004-b33120ed-a212-4636-b53a-ca90962178b7",
    "deepnote_to_be_reexecuted": false,
    "source_hash": "dac1289f",
    "execution_start": 1636862712281,
    "execution_millis": 43,
    "deepnote_cell_type": "code"
   },
   "source": "try:\n  import aenet\n  import ase\nexcept ImportError:\n  import os\n  os.kill(os.getpid(), 9)",
   "execution_count": null,
   "outputs": []
  },
  {
   "cell_type": "markdown",
   "source": "We need to import a few Python packages/libraries that will be used below.",
   "metadata": {
    "tags": [],
    "is_collapsed": false,
    "cell_id": "00009-a1abfd8b-2c45-4dfc-b2b3-bd3eab49f6cc",
    "deepnote_cell_type": "text-cell-p"
   }
  },
  {
   "cell_type": "code",
   "metadata": {
    "tags": [],
    "cell_id": "00011-0689c9b6-004d-481d-b108-aa40ed2f359f",
    "deepnote_to_be_reexecuted": false,
    "source_hash": "a5b77d47",
    "execution_start": 1636864114928,
    "execution_millis": 344,
    "deepnote_cell_type": "code"
   },
   "source": "import numpy as np\nimport pandas as pd\nimport re\nfrom IPython.display import Image\n%matplotlib inline\nimport matplotlib.pyplot as plt\nplt.rcParams.update({\"font.size\": 15})\nplt.close(\"all\")",
   "execution_count": null,
   "outputs": []
  },
  {
   "cell_type": "markdown",
   "source": "## 1. Generating the Reference Data Set",
   "metadata": {
    "tags": [],
    "is_collapsed": false,
    "cell_id": "00011-b71308cb-c002-4cf2-8f59-ad853dde1364",
    "deepnote_cell_type": "text-cell-h2"
   }
  },
  {
   "cell_type": "markdown",
   "source": "The first step is the transformation of the atomic structures in the reference data set into a feature-vector representation of local atomic environments.  This is done with the ænet tool `generate.x`. \n\nWe enter a subdirectory in which we will generate the reference data set.",
   "metadata": {
    "tags": [],
    "cell_id": "00012-5a8001dc-2051-4178-bfbd-ab0cc49cc787",
    "deepnote_cell_type": "markdown"
   }
  },
  {
   "cell_type": "code",
   "metadata": {
    "tags": [],
    "cell_id": "00013-e360c35b-3c31-4592-b038-e3cc36c494c3",
    "deepnote_to_be_reexecuted": false,
    "source_hash": "f6f47793",
    "execution_start": 1636862716864,
    "execution_millis": 281,
    "deepnote_cell_type": "code"
   },
   "source": "%cd /work/psi-k-mlip-workshop-2021/01-generate\n%ls",
   "execution_count": null,
   "outputs": [
    {
     "name": "stdout",
     "text": "/work/psi-k-mlip-workshop-2021/01-generate\ngenerate.in  \u001b[0m\u001b[01;32mO.fingerprint.stp\u001b[0m*  \u001b[01;32mTi.fingerprint.stp\u001b[0m*\r\n",
     "output_type": "stream"
    }
   ]
  },
  {
   "cell_type": "markdown",
   "source": "`generate.x` is a command-line tool that reads input parameters from text files. The file `generate.in` is the pricipal input file containing information about the chemical species and the structures in the reference data set:\n\n- The name of the *training set* output file to be generated,\n- Atomic energies for each species that are subtracted from the total energy before the potential is trained,\n- The file names of the *fingerprint* set-ups for each species that define how the local atomic environment is described, and\n- The paths of the atomic structure files in the reference data set.",
   "metadata": {
    "tags": [],
    "cell_id": "00015-ca0667d3-853e-42c7-a58c-7e774db5011e",
    "deepnote_cell_type": "markdown"
   }
  },
  {
   "cell_type": "code",
   "metadata": {
    "tags": [],
    "cell_id": "00015-da23c75a-65f2-4a45-baa8-4bc7e03f3bd8",
    "deepnote_to_be_reexecuted": false,
    "source_hash": "11e9bc9",
    "execution_start": 1636862720957,
    "execution_millis": 293,
    "deepnote_cell_type": "code"
   },
   "source": "! head -n 15 generate.in",
   "execution_count": null,
   "outputs": [
    {
     "name": "stdout",
     "text": "OUTPUT TiO2.train\r\n\r\nTYPES\r\n2\r\nO   -432.503149303  ! eV\r\nTi -1604.604515075  ! eV\r\n\r\nSETUPS\r\nO   O.fingerprint.stp\r\nTi Ti.fingerprint.stp\r\n\r\nFILES\r\n528\r\n../xsf/structure0161.xsf\r\n../xsf/structure0209.xsf\r\n",
     "output_type": "stream"
    }
   ]
  },
  {
   "cell_type": "markdown",
   "source": "Let's take a look at the *fingerprint* set-up file for oxygen.  The one for titanium is essentially identical in this example.\n\n- A Chebyshev descriptor [1] with radial expansion order 12 and angular expansion order 5 is used,\n- The radial and angular cutoff distances are set to 5 Å and 3 Å, respectively, and\n- The minimal distance between atoms is set to be 0.75 Å.\n\n[1] N. Artrith, A. Urban, and G. Ceder, Phys. Rev. B 96 (2017) 014112.",
   "metadata": {
    "tags": [],
    "cell_id": "00016-05a2b9f7-a7fd-4c93-bab8-d91cb950b09c",
    "deepnote_cell_type": "markdown"
   }
  },
  {
   "cell_type": "code",
   "metadata": {
    "tags": [],
    "cell_id": "00016-91e35394-65ba-40ac-92a8-e9bcb0834e66",
    "deepnote_to_be_reexecuted": false,
    "source_hash": "10227424",
    "execution_start": 1636862723874,
    "execution_millis": 291,
    "deepnote_cell_type": "code"
   },
   "source": "! cat O.fingerprint.stp",
   "execution_count": null,
   "outputs": [
    {
     "name": "stdout",
     "text": "DESCR\r\n  Structural fingerprint setup for O in bulk TiO2.\r\nEND DESCR\r\n\r\nATOM O\r\n\r\nENV  2\r\nTi\r\nO\r\n\r\nRMIN 0.75d0\r\n\r\nBASIS type=Chebyshev\r\nradial_Rc = 5.0  radial_N = 12  angular_Rc = 3.0  angular_N = 5\r\n",
     "output_type": "stream"
    }
   ]
  },
  {
   "cell_type": "markdown",
   "source": "In this example, everything is already prepared to start with the reference data set generation.  So, we can simply run `generate.x` and wait until all structures have been processed.  We collect the output that `generate.x` prints to the screen in a file named `generate.out`.  \n\n**Note: this can take a minute**",
   "metadata": {
    "tags": [],
    "cell_id": "00018-beaaf003-6f2c-4d2b-b661-e70134b92ca8",
    "deepnote_cell_type": "markdown"
   }
  },
  {
   "cell_type": "code",
   "metadata": {
    "tags": [],
    "cell_id": "00019-af7535b9-6f94-4303-ac4b-8f304442e29e",
    "deepnote_to_be_reexecuted": false,
    "source_hash": "65e22ed8",
    "execution_start": 1636862730206,
    "execution_millis": 2222,
    "deepnote_cell_type": "code"
   },
   "source": "! /work/aenet/bin/generate.x-2.0.4-gfortran_serial generate.in > generate.out\nprint(\"Reference data set generation completed.\")\n%ls",
   "execution_count": null,
   "outputs": [
    {
     "name": "stdout",
     "text": "Reference data set generation completed.\ngenerate.in  generate.out  \u001b[0m\u001b[01;32mO.fingerprint.stp\u001b[0m*  \u001b[01;32mTi.fingerprint.stp\u001b[0m*  TiO2.train\n",
     "output_type": "stream"
    }
   ]
  },
  {
   "cell_type": "markdown",
   "source": "The training-set file `TiO2.train` has been generated. **Note that training-set files are binary files and cannot be opened with a text editor.**\n\nNow, we are ready to train our TiO2 potential.  Let's return to the main directory.",
   "metadata": {
    "tags": [],
    "cell_id": "00020-9e97443a-6c2a-4160-b3a0-067f72d65c00",
    "deepnote_cell_type": "markdown"
   }
  },
  {
   "cell_type": "code",
   "metadata": {
    "tags": [],
    "cell_id": "00021-d05c82db-27d6-41a4-a986-f480c13d9a35",
    "deepnote_to_be_reexecuted": false,
    "source_hash": "52c17cfd",
    "execution_start": 1636862735179,
    "execution_millis": 10,
    "deepnote_cell_type": "code"
   },
   "source": "%cd /work/",
   "execution_count": null,
   "outputs": [
    {
     "name": "stdout",
     "text": "/work\n",
     "output_type": "stream"
    }
   ]
  },
  {
   "cell_type": "markdown",
   "source": "## 2. Training an ANN Potential",
   "metadata": {
    "tags": [],
    "is_collapsed": false,
    "cell_id": "00022-d4391655-a1df-489d-8de2-99980e7f8c3c",
    "deepnote_cell_type": "text-cell-h2"
   }
  },
  {
   "cell_type": "markdown",
   "source": "In this section, we will use the reference data set generated in the previous section to train an artificial neural network (ANN) potential.\n\nPotential training is also done with a command-line tool, which is named `train.x`.  ",
   "metadata": {
    "tags": [],
    "cell_id": "00023-575290c0-a6bb-4a82-8e6e-1bf9c8312b2b",
    "deepnote_cell_type": "markdown"
   }
  },
  {
   "cell_type": "code",
   "metadata": {
    "tags": [],
    "cell_id": "00024-0ea4e9ee-b36b-43f6-9d18-7f850f3b41c5",
    "deepnote_to_be_reexecuted": false,
    "source_hash": "d96bf0ca",
    "execution_start": 1636862737798,
    "execution_millis": 419,
    "deepnote_cell_type": "code"
   },
   "source": "%cd /work/psi-k-mlip-workshop-2021/02-train\n%ls",
   "execution_count": null,
   "outputs": [
    {
     "name": "stdout",
     "text": "/work/psi-k-mlip-workshop-2021/02-train\n\u001b[0m\u001b[01;34mexample-good-ann-fits\u001b[0m/  \u001b[01;36mTiO2.train\u001b[0m@  train.in\r\n",
     "output_type": "stream"
    }
   ]
  },
  {
   "cell_type": "markdown",
   "source": "An input file for `train.x`, named `train.in`, has already been prepared for us.  This file contains the following instructions\n\n- The path to the reference data set file (`TiO2.train`),\n- The fraction of the data set that should be set aside as validation set,\n- The number of training iterations (epochs) to perform,\n- The training method and its parameters, and\n- The *architecture* of the atomic-energy ANNs for each species.",
   "metadata": {
    "tags": [],
    "cell_id": "00025-5216dff6-c362-477a-b5fa-0e86eddb1053",
    "deepnote_cell_type": "markdown"
   }
  },
  {
   "cell_type": "code",
   "metadata": {
    "tags": [],
    "cell_id": "00026-0cd409a3-fd45-43d3-adda-e3ea98d78ba8",
    "deepnote_to_be_reexecuted": false,
    "source_hash": "ab3025b9",
    "execution_start": 1636862744314,
    "execution_millis": 274,
    "deepnote_cell_type": "code"
   },
   "source": "%cat train.in",
   "execution_count": null,
   "outputs": [
    {
     "name": "stdout",
     "text": "TRAININGSET TiO2.train\r\nTESTPERCENT 10\r\nITERATIONS  100\r\nMAXENERGY   -0.05 eV\r\n\r\nMETHOD\r\nbfgs\r\n\r\nNETWORKS\r\n! atom   network         hidden\r\n! types  file-name       layers  nodes:activation\r\n  Ti     Ti.5t-5t.nn    2    5:tanh  5:tanh\r\n  O      O.5t-5t.nn     2    5:tanh  5:tanh\r\n",
     "output_type": "stream"
    }
   ]
  },
  {
   "cell_type": "markdown",
   "source": "Before we can start with training, the reference data set file needs to be made available.  We will create a symbolic link to it in the present directory.",
   "metadata": {
    "tags": [],
    "cell_id": "00027-14f79d99-b1ca-4770-9cf2-652d0d5186de",
    "deepnote_cell_type": "markdown"
   }
  },
  {
   "cell_type": "code",
   "metadata": {
    "tags": [],
    "cell_id": "00028-cfc21c1f-1504-4666-8af8-286e9ca7406e",
    "deepnote_to_be_reexecuted": false,
    "source_hash": "b7ff4dad",
    "execution_start": 1636862750749,
    "execution_millis": 612,
    "deepnote_cell_type": "code"
   },
   "source": "! ln -s /work/psi-k-mlip-workshop-2021/01-generate/TiO2.train\n%ls",
   "execution_count": null,
   "outputs": [
    {
     "name": "stdout",
     "text": "ln: failed to create symbolic link './TiO2.train': File exists\n\u001b[0m\u001b[01;34mexample-good-ann-fits\u001b[0m/  \u001b[01;36mTiO2.train\u001b[0m@  train.in\n",
     "output_type": "stream"
    }
   ]
  },
  {
   "cell_type": "markdown",
   "source": "Now, we perform the training.  Note that this can take a few minutes.  We can observe the training iterations.",
   "metadata": {
    "tags": [],
    "cell_id": "00029-307cc274-9e7f-4736-b334-5b53f045e178",
    "deepnote_cell_type": "markdown"
   }
  },
  {
   "cell_type": "code",
   "metadata": {
    "tags": [],
    "cell_id": "00030-e9614d8b-4116-4de6-b761-d74d359ab040",
    "deepnote_to_be_reexecuted": false,
    "source_hash": "439b0c02",
    "execution_start": 1636862755600,
    "execution_millis": 95451,
    "deepnote_cell_type": "code"
   },
   "source": "! /work/aenet/bin/train.x-2.0.4-gfortran_serial train.in | tee train.out\n!! tar cfvz nn.tar.gz *.nn-* && rm -f *.nn-*\n%ls",
   "execution_count": null,
   "outputs": [
    {
     "name": "stdout",
     "text": " ======================================================================\n                       Training process started.                       \n ======================================================================\n                                                                       \n                          2021-11-14  04:05:55                         \n                                                                       \n\n Copyright (C) 2015-2018 Nongnuch Artrith and Alexander Urban\n\n This program is distributed in the hope that it will be useful, but\n WITHOUT ANY WARRANTY; without even the implied warranty of\n MERCHANTABILITY or FITNESS FOR A PARTICULAR PURPOSE.  See the\n Mozilla Public License, v. 2.0, for more details.\n\n ----------------------------------------------------------------------\n                       Training set normalization                      \n ----------------------------------------------------------------------\n\n The training set will be normalized now.  Depending on its size this\n process can take a while.  The normalized data set will be written to\n another file. Load that file in future to avoid this step.\n\n Name of the new training set file: TiO2.train.scaled\n\n The network output energy will be normalized to the interval [-1,1].\n   Energy scaling factor: f = 0.234707\n   Atomic energy shift  : s = -4.310636\n\n 1 high-energy structures will be removed from the scaled training set.\n\n Training set normalization done.\n\n ----------------------------------------------------------------------\n                                Networks                               \n ----------------------------------------------------------------------\n\n Creating a new O network\n\n Number of layers :   4\n\n Number of nodes (without bias) \n and activation type per layer :\n\n       1 :    38\n       2 :     5  hyperbolic tangent (tanh)\n       3 :     5  hyperbolic tangent (tanh)\n       4 :     1  linear function (linear)\n\n Required memory (words) :     125947 (    983.96 KB)\n\n Total number of weights (incl. bias) :      231\n\n Creating a new Ti network\n\n Number of layers :   4\n\n Number of nodes (without bias) \n and activation type per layer :\n\n       1 :    38\n       2 :     5  hyperbolic tangent (tanh)\n       3 :     5  hyperbolic tangent (tanh)\n       4 :     1  linear function (linear)\n\n Required memory (words) :     125947 (    983.96 KB)\n\n Total number of weights (incl. bias) :      231\n\n ----------------------------------------------------------------------\n                            Storing networks                           \n ----------------------------------------------------------------------\n\n Saving the O network to file : O.5t-5t.nn\n Saving the Ti network to file : Ti.5t-5t.nn\n\n ----------------------------------------------------------------------\n                           Training set info.                          \n ----------------------------------------------------------------------\n\n Training set file                   : TiO2.train.scaled\n Number of structures in the data set: 527\n\n Atomic species in training set      : 2\n   Species : O Ti\n\n Average energy (eV/atom) : -0.682288\n Minimum energy (eV/atom) : -1.000000\n Maximum energy (eV/atom) : 0.984049\n\n The input and output values have been normalized to [-1.0, 1.0].\n Structures outside of this interval will not be used for training.\n   Energy scaling factor: 0.234707\n   Atomic energy shift  : -4.310636\n\n ----------------------------------------------------------------------\n                            Training details                           \n ----------------------------------------------------------------------\n\n Training method         : Limited Memory BFGS\n\n Number of iterations    : 100\n\n Training structures     : 475\n Testing  structures     : 52\n\n Testing set : \n\n       4        5       27       33       54       89      100      105 \n     111      119      128      132      133      138      154      177 \n     178      182      202      219      234      239      257      262 \n     263      270      278      319      322      324      331      346 \n     354      377      381      397      398      414      423      430 \n     437      439      450      475      477      480      495      523 \n     524      525      526      527 \n\n ----------------------------------------------------------------------\n                            Training process                           \n ----------------------------------------------------------------------\n\n Weight optimization for 100 epochs using the Limited Memory BFGS method.\n\n Sampling type               : sequential\n\n        |------------TRAIN-----------|  |------------TEST------------|\n epoch             MAE          <RMSE>             MAE          <RMSE>\n     0    1.580591E+00    1.925001E+00    1.303815E+00    1.608783E+00 <\n     1    1.580591E+00    1.925001E+00    1.303815E+00    1.608783E+00 <\n     2    1.950141E+00    2.290086E+00    1.776356E+00    2.111036E+00 <\n     3    8.565495E-01    1.236174E+00    7.590596E-01    1.000380E+00 <\n     4    6.200232E-01    1.006940E+00    5.108754E-01    6.926241E-01 <\n     5    5.848238E-01    9.298711E-01    4.375188E-01    6.206583E-01 <\n     6    5.572929E-01    8.640603E-01    3.786247E-01    5.588171E-01 <\n     7    5.349216E-01    7.463810E-01    3.787424E-01    5.441252E-01 <\n     8    5.520876E-01    7.318884E-01    4.563481E-01    5.473616E-01 <\n     9    4.780419E-01    6.549492E-01    4.032620E-01    5.180786E-01 <\n    10    4.535704E-01    6.262478E-01    3.884681E-01    5.265601E-01 <\n    11    4.223982E-01    5.783477E-01    3.733316E-01    5.174418E-01 <\n    12    3.883452E-01    5.239366E-01    3.335201E-01    4.633346E-01 <\n    13    3.214947E-01    4.306363E-01    2.858223E-01    3.765604E-01 <\n    14    3.068229E-01    4.034592E-01    2.727120E-01    3.687884E-01 <\n    15    2.791029E-01    3.771085E-01    2.422411E-01    3.345079E-01 <\n    16    2.610412E-01    3.566869E-01    2.169633E-01    3.035333E-01 <\n    17    2.388771E-01    3.293105E-01    1.800490E-01    2.533395E-01 <\n    18    2.203008E-01    3.047056E-01    1.546273E-01    2.133104E-01 <\n    19    1.957924E-01    2.771475E-01    1.369380E-01    1.796752E-01 <\n    20    1.757265E-01    2.496184E-01    1.353847E-01    1.716129E-01 <\n    21    1.694337E-01    2.371536E-01    1.291271E-01    1.803712E-01 <\n    22    1.630825E-01    2.244199E-01    1.159243E-01    1.662074E-01 <\n    23    1.602464E-01    2.201494E-01    1.157674E-01    1.623434E-01 <\n    24    1.524596E-01    2.097086E-01    1.152045E-01    1.582757E-01 <\n    25    1.453571E-01    1.990386E-01    1.128062E-01    1.570643E-01 <\n    26    1.335406E-01    1.830642E-01    1.121709E-01    1.529331E-01 <\n    27    1.239135E-01    1.708585E-01    1.177447E-01    1.553388E-01 <\n    28    1.180797E-01    1.674055E-01    1.140123E-01    1.453710E-01 <\n    29    1.156543E-01    1.621575E-01    1.135817E-01    1.467020E-01 <\n    30    1.137465E-01    1.573322E-01    1.145159E-01    1.488762E-01 <\n    31    1.092968E-01    1.502277E-01    1.177126E-01    1.516565E-01 <\n    32    1.029587E-01    1.399673E-01    1.192025E-01    1.512518E-01 <\n    33    9.938644E-02    1.341879E-01    1.179734E-01    1.499903E-01 <\n    34    9.622054E-02    1.303651E-01    1.147174E-01    1.448519E-01 <\n    35    9.398673E-02    1.271933E-01    1.087422E-01    1.356438E-01 <\n    36    9.052223E-02    1.254803E-01    1.062598E-01    1.339072E-01 <\n    37    8.967112E-02    1.245001E-01    1.056373E-01    1.337917E-01 <\n    38    8.680580E-02    1.202780E-01    1.038192E-01    1.338740E-01 <\n    39    8.375898E-02    1.152962E-01    9.849608E-02    1.286133E-01 <\n    40    8.383344E-02    1.114163E-01    1.007518E-01    1.334735E-01 <\n    41    7.950091E-02    1.078919E-01    9.570162E-02    1.279980E-01 <\n    42    7.829752E-02    1.064336E-01    9.459541E-02    1.259363E-01 <\n    43    7.706295E-02    1.041646E-01    9.352416E-02    1.243397E-01 <\n    44    7.510402E-02    1.013594E-01    9.109894E-02    1.231327E-01 <\n    45    7.259171E-02    9.790285E-02    9.133849E-02    1.248357E-01 <\n    46    6.975643E-02    9.502597E-02    8.634840E-02    1.206537E-01 <\n    47    6.787712E-02    9.271747E-02    8.697634E-02    1.244107E-01 <\n    48    6.670243E-02    9.142349E-02    8.701074E-02    1.253033E-01 <\n    49    6.577035E-02    9.040187E-02    8.741596E-02    1.235380E-01 <\n    50    6.481430E-02    8.872003E-02    8.300981E-02    1.138199E-01 <\n    51    6.310034E-02    8.675276E-02    7.905915E-02    1.061715E-01 <\n    52    6.195161E-02    8.544228E-02    7.436697E-02    1.007292E-01 <\n    53    6.181040E-02    8.438815E-02    6.889343E-02    9.250287E-02 <\n    54    6.113104E-02    8.367146E-02    6.944353E-02    9.461212E-02 <\n    55    6.057813E-02    8.281905E-02    6.996193E-02    9.719752E-02 <\n    56    6.012126E-02    8.173351E-02    6.999399E-02    9.968234E-02 <\n    57    5.957103E-02    8.029994E-02    6.960900E-02    1.005682E-01 <\n    58    6.318856E-02    8.432812E-02    6.170368E-02    9.046931E-02 <\n    59    5.900428E-02    7.962627E-02    6.663487E-02    9.662788E-02 <\n    60    5.876659E-02    7.802319E-02    6.546059E-02    9.347985E-02 <\n    61    5.863951E-02    7.705623E-02    6.440657E-02    8.931682E-02 <\n    62    5.811681E-02    7.621122E-02    6.311208E-02    8.472060E-02 <\n    63    5.756622E-02    7.506005E-02    6.250195E-02    8.241179E-02 <\n    64    5.781795E-02    7.516618E-02    5.548584E-02    7.544042E-02 <\n    65    5.659574E-02    7.403614E-02    5.874772E-02    7.712268E-02 <\n    66    5.543353E-02    7.219140E-02    5.985296E-02    7.868756E-02 <\n    67    5.393993E-02    7.001850E-02    6.103568E-02    8.175385E-02 <\n    68    5.314223E-02    6.814370E-02    6.404138E-02    9.050175E-02 <\n    69    5.454793E-02    6.972129E-02    6.640882E-02    9.944099E-02 <\n    70    5.251932E-02    6.731877E-02    6.359957E-02    9.251454E-02 <\n    71    5.193704E-02    6.658003E-02    6.413687E-02    9.428287E-02 <\n    72    5.150976E-02    6.601922E-02    6.523952E-02    9.415426E-02 <\n    73    5.110953E-02    6.567030E-02    6.406765E-02    9.300185E-02 <\n    74    5.020931E-02    6.478763E-02    6.208975E-02    9.001436E-02 <\n    75    4.871492E-02    6.347003E-02    5.870331E-02    8.490806E-02 <\n    76    4.733789E-02    6.211845E-02    5.556347E-02    8.180380E-02 <\n    77    4.713232E-02    6.144290E-02    4.776047E-02    7.229571E-02 <\n    78    4.590242E-02    6.028048E-02    4.928913E-02    7.549834E-02 <\n    79    4.549896E-02    5.981366E-02    4.975464E-02    7.664887E-02 <\n    80    4.481603E-02    5.902644E-02    4.860948E-02    7.623238E-02 <\n    81    4.405343E-02    5.809884E-02    4.690544E-02    7.684031E-02 <\n    82    4.427162E-02    5.774480E-02    4.264458E-02    6.789728E-02 <\n    83    4.315717E-02    5.674763E-02    4.305782E-02    6.979237E-02 <\n    84    4.290393E-02    5.636552E-02    4.349956E-02    6.984733E-02 <\n    85    4.271987E-02    5.604242E-02    4.311974E-02    6.857341E-02 <\n    86    4.246477E-02    5.560958E-02    4.285073E-02    6.799516E-02 <\n    87    4.185605E-02    5.501475E-02    4.161658E-02    6.474792E-02 <\n    88    4.166015E-02    5.459243E-02    4.114409E-02    6.396241E-02 <\n    89    4.104535E-02    5.365316E-02    4.032496E-02    6.553558E-02 <\n    90    4.057472E-02    5.268486E-02    3.846822E-02    6.155288E-02 <\n    91    4.025627E-02    5.202802E-02    3.884400E-02    6.120172E-02 <\n    92    3.985619E-02    5.117348E-02    3.893476E-02    6.103769E-02 <\n    93    3.995170E-02    5.103929E-02    3.896247E-02    6.282987E-02 <\n    94    3.960592E-02    5.052911E-02    3.916772E-02    6.217165E-02 <\n    95    3.935285E-02    5.020532E-02    3.882485E-02    6.146504E-02 <\n    96    3.894545E-02    4.966003E-02    3.867472E-02    6.098221E-02 <\n    97    3.839171E-02    4.980074E-02    3.734690E-02    6.007813E-02 <\n    98    3.845674E-02    4.941006E-02    3.752590E-02    6.025766E-02 <\n    99    3.823335E-02    4.915418E-02    3.762791E-02    6.045113E-02 <\n   100    3.785967E-02    4.881547E-02    3.774157E-02    6.096453E-02 <\n\n Training finished.\n\n ----------------------------------------------------------------------\n                            Storing networks                           \n ----------------------------------------------------------------------\n\n Saving the O network to file : O.5t-5t.nn\n Saving the Ti network to file : Ti.5t-5t.nn\n\n                                                                       \n                          2021-11-14  04:07:30                         \n                                                                       \n ======================================================================\n                     Neural Network training done.                     \n ======================================================================\n\u001b[0m\u001b[01;34mexample-good-ann-fits\u001b[0m/  Ti.5t-5t.nn        train.in       train.rngstate\nnn.tar.gz               \u001b[01;36mTiO2.train\u001b[0m@        train.out\nO.5t-5t.nn              TiO2.train.scaled  train.restart\n",
     "output_type": "stream"
    }
   ]
  },
  {
   "cell_type": "markdown",
   "source": "Once training has completed, the ANN potentials for oxygen and titanium are available in `O.5t-5t.nn` and `Ti.5t-5t.nn`.  **Note that ANN potential files are binary and cannot be open in a text editor.** ",
   "metadata": {
    "tags": [],
    "cell_id": "00031-d55c5e63-bd5b-432b-8244-09ac6a4f82ee",
    "deepnote_cell_type": "markdown"
   }
  },
  {
   "cell_type": "code",
   "metadata": {
    "tags": [],
    "cell_id": "00032-0fe69090-5a12-491b-8325-babb37d26949",
    "deepnote_to_be_reexecuted": false,
    "source_hash": "52c17cfd",
    "execution_start": 1636863819060,
    "execution_millis": 3,
    "deepnote_cell_type": "code"
   },
   "source": "%cd /work/",
   "execution_count": null,
   "outputs": [
    {
     "name": "stdout",
     "text": "/work\n",
     "output_type": "stream"
    }
   ]
  },
  {
   "cell_type": "markdown",
   "source": "## 3. Inspecting the Training Results",
   "metadata": {
    "tags": [],
    "is_collapsed": false,
    "cell_id": "00033-bfac77a0-1f16-4ac1-a3d9-739086e000c3",
    "deepnote_cell_type": "text-cell-h2"
   }
  },
  {
   "cell_type": "markdown",
   "source": "Was the training successful?  One measure is the performance of the trained potential on the validation set, which is reported for each training epoch on lines that like the following:\n\n\n    N  MAE_train  RMSE_train  MAE_val  RMSE_val  <\n \n\n`N` is the training iteration (or *epoch*), `MAE_train` and `RMSE_train` are the *mean absolute error* and *root mean squared error* on the training set, and `MAE_val` and `RMSE_val` are the same for the validation set.\n\nPlotting the RMSE of both training and validation set together can be helpful to detect overfitting:",
   "metadata": {
    "tags": [],
    "cell_id": "00034-58016b96-aea6-4a12-af19-7a7f6d6acf39",
    "deepnote_cell_type": "markdown"
   }
  },
  {
   "cell_type": "code",
   "metadata": {
    "tags": [],
    "cell_id": "00035-68d72719-6647-447d-b041-cee25992182e",
    "deepnote_to_be_reexecuted": false,
    "source_hash": "4c7acfce",
    "execution_start": 1636863821316,
    "execution_millis": 1603,
    "deepnote_cell_type": "code"
   },
   "source": "errors = []\nwith open(\"/work/psi-k-mlip-workshop-2021/02-train/train.out\") as fp:\n  for line in fp:\n    if re.match(\"^ *[0-9].*<$\", line):\n      errors.append([float(a) for a in line.split()[1:-1]])\nerrors = np.array(errors)\nerrors = pd.DataFrame(\n    data=errors, \n    columns=['MAE_train', 'RMSE_train', 'MAE_test', 'RMSE_test'])\nax = errors[['RMSE_train', 'RMSE_test']].plot(logy=True)\nax.set_xlabel(\"Epoch\"); ax.set_ylabel(\"RMSE (eV/atom)\")",
   "execution_count": null,
   "outputs": [
    {
     "output_type": "execute_result",
     "execution_count": 13,
     "data": {
      "text/plain": "Text(0, 0.5, 'RMSE (eV/atom)')"
     },
     "metadata": {}
    },
    {
     "data": {
      "text/plain": "<Figure size 432x288 with 1 Axes>",
      "image/png": "[encoded data removed]"
     },
     "metadata": {
      "needs_background": "light",
      "image/png": {
       "width": 410,
       "height": 272
      }
     },
     "output_type": "display_data"
    }
   ]
  },
  {
   "cell_type": "markdown",
   "source": "As seen in the figure, the training-set RMSE continues to decreas long after the test-set RMSE has flattened.  This behavior indicates that the model is overfitting.\n\nOur example uses a very small data set of only ~500 structures, so it is not surprising that overfitting occurs after a few training iterations.\n\nFor comparison, we also prepared a training example for a more complex ANN potential that was trained on the complete TiO$_2$ data set containing ~7,000 data points.",
   "metadata": {
    "tags": [],
    "cell_id": "00036-1f688463-c53c-47b2-9249-1b3e5ea8c81e",
    "deepnote_cell_type": "markdown"
   }
  },
  {
   "cell_type": "code",
   "metadata": {
    "tags": [],
    "cell_id": "00037-c5a9647c-21b1-4080-a072-39f1624d2464",
    "deepnote_to_be_reexecuted": false,
    "source_hash": "e68cbb26",
    "execution_start": 1636863827431,
    "execution_millis": 591,
    "deepnote_cell_type": "code"
   },
   "source": "errors = []\nwith open(\"/work/psi-k-mlip-workshop-2021/02-train/example-good-ann-fits/set001/fit-01.dat\") as fp:\n  for line in fp:\n    if re.match(\"^ *[0-9].*<$\", line):\n      errors.append([float(a) for a in line.split()[1:-1]])\nerrors = np.array(errors)\nerrors = pd.DataFrame(\n    data=errors, \n    columns=['MAE_train', 'RMSE_train', 'MAE_test', 'RMSE_test'])\nax = errors[['RMSE_train', 'RMSE_test']].plot(logy=True)\nax.set_xlabel(\"Epoch\"); ax.set_ylabel(\"RMSE (eV/atom)\")\nplt.show()",
   "execution_count": null,
   "outputs": [
    {
     "data": {
      "text/plain": "<Figure size 432x288 with 1 Axes>",
      "image/png": "[encoded data removed]"
     },
     "metadata": {
      "needs_background": "light",
      "image/png": {
       "width": 414,
       "height": 272
      }
     },
     "output_type": "display_data"
    }
   ]
  },
  {
   "cell_type": "markdown",
   "source": "`train.x` can export the errors for all training samples in the training and validation sets.  Here, we visualize the results for one example (set003).",
   "metadata": {
    "tags": [],
    "cell_id": "00038-d72e911b-9f8f-4ae8-80f3-ff745ae1ef8f",
    "deepnote_cell_type": "markdown"
   }
  },
  {
   "cell_type": "code",
   "metadata": {
    "tags": [],
    "cell_id": "00039-690b1069-5bfb-4be3-a565-252b43c4865b",
    "deepnote_to_be_reexecuted": false,
    "source_hash": "97208aca",
    "execution_start": 1636863832275,
    "execution_millis": 269,
    "deepnote_cell_type": "code"
   },
   "source": "test = \"/work/psi-k-mlip-workshop-2021/02-train/example-good-ann-fits/set003/energies.test.0\"\ntest_errors = np.loadtxt(test, skiprows=1, usecols=(3,4))\nplt.plot(np.linspace(-9, 0), np.linspace(-9, 0), color=\"black\")\nplt.scatter(test_errors[:,0], test_errors[:,1], color=\"red\", s=60, label=\"validation\")\nplt.xlabel('DFT (eV/atom)')\nplt.ylabel('ANN (eV/atom)')\nplt.show()",
   "execution_count": null,
   "outputs": [
    {
     "data": {
      "text/plain": "<Figure size 432x288 with 1 Axes>",
      "image/png": "[encoded data removed]"
     },
     "metadata": {
      "needs_background": "light",
      "image/png": {
       "width": 397,
       "height": 272
      }
     },
     "output_type": "display_data"
    }
   ]
  },
  {
   "cell_type": "markdown",
   "source": "## 4. The ænet-Python Interface",
   "metadata": {
    "tags": [],
    "is_collapsed": false,
    "cell_id": "00040-ef8a2f30-d0bc-45f8-9441-ad0ec0e7896e",
    "deepnote_cell_type": "text-cell-h2"
   }
  },
  {
   "cell_type": "markdown",
   "source": "Trained ænet ANN potentials can be used with a number of standard simulations packages.  Here we will take a look at the ænet Python interface, which enables compatibility with the Atomic Simulation Environment (ase, see above).",
   "metadata": {
    "tags": [],
    "cell_id": "00041-ad7a32b2-e47e-487f-a2cf-3e0009e82e9f",
    "deepnote_cell_type": "markdown"
   }
  },
  {
   "cell_type": "code",
   "metadata": {
    "tags": [],
    "cell_id": "00042-5b9a194d-4ef8-41d8-ad8d-fc6d56a83b1f",
    "deepnote_to_be_reexecuted": false,
    "source_hash": "7497924b",
    "execution_start": 1636864125172,
    "execution_millis": 627,
    "deepnote_cell_type": "code"
   },
   "source": "import aenet\nfrom aenet.ase_calculator import ANNCalculator\nimport ase\nimport ase.spacegroup\nimport ase.visualize",
   "execution_count": null,
   "outputs": []
  },
  {
   "cell_type": "markdown",
   "source": "We create a new directory and copy the trained potentials into it.",
   "metadata": {
    "tags": [],
    "cell_id": "00043-c68cde47-6291-4bd9-b51a-9e1a6c0f7578",
    "deepnote_cell_type": "markdown"
   }
  },
  {
   "cell_type": "code",
   "metadata": {
    "tags": [],
    "cell_id": "00044-659cd73a-a178-44c4-8832-19179bcb8aae",
    "deepnote_to_be_reexecuted": false,
    "source_hash": "67dde9fe",
    "execution_start": 1636864129757,
    "execution_millis": 381,
    "deepnote_cell_type": "code"
   },
   "source": "%cd /work/psi-k-mlip-workshop-2021/04-aenetLib-ann-md\n%ls",
   "execution_count": null,
   "outputs": [
    {
     "name": "stdout",
     "text": "/work/psi-k-mlip-workshop-2021/04-aenetLib-ann-md\nfit-01.dat  fit-01-get-energies.dat  \u001b[0m\u001b[01;32mO.40t-40t.nn\u001b[0m*  \u001b[01;32mTi.40t-40t.nn\u001b[0m*\n",
     "output_type": "stream"
    }
   ]
  },
  {
   "cell_type": "markdown",
   "source": "Next, we create an ase structure object with the TiO2 rutile structure. We could have also read this structure from an input file.\n",
   "metadata": {
    "tags": [],
    "cell_id": "00045-36aea0d9-d530-493b-b405-4af177a32cb0",
    "deepnote_cell_type": "markdown"
   }
  },
  {
   "cell_type": "code",
   "metadata": {
    "tags": [],
    "cell_id": "00043-6a941b07-a694-4c7f-8ae5-3fbe797e5c9f",
    "deepnote_to_be_reexecuted": false,
    "source_hash": "921bd32c",
    "execution_start": 1636864132922,
    "execution_millis": 178,
    "deepnote_cell_type": "code"
   },
   "source": "a = 4.6\nc = 2.95\natoms = ase.spacegroup.crystal(\n    ['Ti', 'O'], basis=[(0, 0, 0), (0.3, 0.3, 0.0)],\n    spacegroup=136, cellpar=[a, a, c, 90, 90, 90])\nase.io.write('rutile.traj', atoms)\nase.io.write('rutile.png', atoms)\nImage(\"rutile.png\")\n#ase.visualize.view(atoms, viewer='x3d')",
   "execution_count": null,
   "outputs": [
    {
     "output_type": "execute_result",
     "execution_count": 4,
     "data": {
      "image/png": "[encoded data removed]",
      "text/plain": "<IPython.core.display.Image object>"
     },
     "metadata": {
      "image/png": {
       "width": 130,
       "height": 130
      }
     }
    }
   ]
  },
  {
   "cell_type": "markdown",
   "source": "The ænet Python package provides an ASE *Calculator* class that can load ænet ANN potentials.  In this case, we use the ANN potential from: \n\n`02-train > example-good-ann-fits > set003`",
   "metadata": {
    "tags": [],
    "cell_id": "00044-9be66919-b2a2-4cdf-8e0b-f04826fd2b44",
    "deepnote_cell_type": "markdown"
   }
  },
  {
   "cell_type": "code",
   "metadata": {
    "tags": [],
    "cell_id": "00044-cc2c0139-a948-4b6e-ab26-9ef08fff3faf",
    "deepnote_to_be_reexecuted": false,
    "source_hash": "a367011f",
    "execution_start": 1636864137826,
    "execution_millis": 4,
    "deepnote_cell_type": "code"
   },
   "source": "pot = {\"Ti\": \"/work/psi-k-mlip-workshop-2021/02-train/example-good-ann-fits/set003/Ti.40t-40t.nn\", \n       \"O\": \"/work/psi-k-mlip-workshop-2021/02-train/example-good-ann-fits/set003/O.40t-40t.nn\"}\ncalc = ANNCalculator(pot)",
   "execution_count": null,
   "outputs": []
  },
  {
   "cell_type": "markdown",
   "source": "This calculator can then be used to predict energies (and atomic forces) for a given atomic structure.",
   "metadata": {
    "tags": [],
    "cell_id": "00046-9ff5f0d0-cfb7-40d7-a67e-e4a43d811f44",
    "deepnote_cell_type": "markdown"
   }
  },
  {
   "cell_type": "code",
   "metadata": {
    "tags": [],
    "cell_id": "00047-54e08798-0013-47db-b0af-711492ff17d9",
    "deepnote_to_be_reexecuted": false,
    "source_hash": "570db132",
    "execution_start": 1636864141864,
    "execution_millis": 300,
    "deepnote_cell_type": "code"
   },
   "source": "atoms.set_calculator(calc)\nE = atoms.get_potential_energy()\nprint(\"Total energy = {} eV\".format(E))",
   "execution_count": null,
   "outputs": [
    {
     "name": "stdout",
     "text": "Total energy = -4990.38881622236 eV\n",
     "output_type": "stream"
    }
   ]
  },
  {
   "cell_type": "code",
   "metadata": {
    "tags": [],
    "cell_id": "00048-adb954c2-7cb1-4444-aefc-d26e2a41a106",
    "deepnote_to_be_reexecuted": false,
    "source_hash": "70aaea55",
    "execution_start": 1636864144806,
    "execution_millis": 3,
    "deepnote_cell_type": "code"
   },
   "source": "%cd /work",
   "execution_count": null,
   "outputs": [
    {
     "name": "stdout",
     "text": "/work\n",
     "output_type": "stream"
    }
   ]
  },
  {
   "cell_type": "markdown",
   "source": "## 5. Python/ASE Example: Equation of States",
   "metadata": {
    "tags": [],
    "is_collapsed": false,
    "cell_id": "00049-f3d66325-d218-4717-b2cb-1a9bacfb5bd5",
    "deepnote_cell_type": "text-cell-h2"
   }
  },
  {
   "cell_type": "markdown",
   "source": "In this example, we use the `ANNCalculator` and ASE to compute the equation of states of rutile TiO$_2$.",
   "metadata": {
    "tags": [],
    "cell_id": "00050-3d0ea856-6d1a-403c-8cc7-fb8db7e53f2f",
    "deepnote_cell_type": "markdown"
   }
  },
  {
   "cell_type": "code",
   "metadata": {
    "tags": [],
    "cell_id": "00053-add82678-ccab-47fc-a065-bf105d902a48",
    "deepnote_to_be_reexecuted": false,
    "source_hash": "40fbb3de",
    "execution_start": 1636864176283,
    "execution_millis": 9,
    "deepnote_cell_type": "code"
   },
   "source": "%cd /work/psi-k-mlip-workshop-2021/04-aenetLib-ann-md",
   "execution_count": null,
   "outputs": [
    {
     "name": "stdout",
     "text": "/work/psi-k-mlip-workshop-2021/04-aenetLib-ann-md\n",
     "output_type": "stream"
    }
   ]
  },
  {
   "cell_type": "markdown",
   "source": "First, we sample the potential energy around for unit cells with slightly smaller and slightly larger lattice parameters.",
   "metadata": {
    "tags": [],
    "cell_id": "00054-5903f765-e255-4ecd-91e2-bb12747fb31a",
    "deepnote_cell_type": "markdown"
   }
  },
  {
   "cell_type": "code",
   "metadata": {
    "tags": [],
    "cell_id": "00055-535527cc-3331-4a77-958a-cd28c3570d78",
    "deepnote_to_be_reexecuted": false,
    "source_hash": "ae289283",
    "execution_start": 1636864205486,
    "execution_millis": 2451,
    "deepnote_cell_type": "code"
   },
   "source": "from ase.io.trajectory import Trajectory\npot = {\"Ti\": \"/work/psi-k-mlip-workshop-2021/02-train/example-good-ann-fits/set003/Ti.40t-40t.nn\", \n        \"O\": \"/work/psi-k-mlip-workshop-2021/02-train/example-good-ann-fits/set003/O.40t-40t.nn\"}\ncalc = ANNCalculator(pot)\neos_atoms = atoms.copy()\neos_atoms.set_calculator(calc)\ncell = eos_atoms.get_cell()\ntraj = Trajectory('rutile-eos.traj', 'w')\nfor x in np.linspace(0.98, 1.04, 8):\n    eos_atoms.set_cell(cell * x, scale_atoms=True)\n    eos_atoms.get_potential_energy()\n    traj.write(eos_atoms)",
   "execution_count": null,
   "outputs": []
  },
  {
   "cell_type": "markdown",
   "source": "This has produced the *trajectory* file `rutile-eos.traj`.\n\nNext, we read the trajectory file and fit an analytical equation of states to the data points.",
   "metadata": {
    "tags": [],
    "cell_id": "00056-b8a20c10-746b-448a-81e0-d893d963e072",
    "deepnote_cell_type": "markdown"
   }
  },
  {
   "cell_type": "code",
   "metadata": {
    "tags": [],
    "cell_id": "00057-36dd6f0d-60e7-488f-a916-bd182a17f0ce",
    "deepnote_to_be_reexecuted": false,
    "source_hash": "6313899b",
    "execution_start": 1636864213797,
    "execution_millis": 941,
    "deepnote_cell_type": "code"
   },
   "source": "from ase.units import kJ\nfrom ase.eos import EquationOfState\nconfigs = ase.io.read('rutile-eos.traj@0:')  # read 5 configurations\nvolumes = [c.get_volume() for c in configs]\nenergies = [c.get_potential_energy() for c in configs]\neos = EquationOfState(volumes, energies)\nv0, e0, B = eos.fit()\nplt.rcParams.update({\"font.size\": 15})\nplt.rcParams.update({\"axes.titlesize\": 14})\nax = eos.plot('rutile-eos.png')\nax.ticklabel_format(useOffset=False)\nplt.show()",
   "execution_count": null,
   "outputs": [
    {
     "data": {
      "text/plain": "<Figure size 432x288 with 1 Axes>",
      "image/png": "[encoded data removed]"
     },
     "metadata": {
      "needs_background": "light",
      "image/png": {
       "width": 447,
       "height": 300
      }
     },
     "output_type": "display_data"
    }
   ]
  },
  {
   "cell_type": "markdown",
   "source": "The bulk modulus as predicted by density functional theory (the reference method for our ANN potential) is 235 GPa.",
   "metadata": {
    "tags": [],
    "cell_id": "00058-faecd556-dcde-45d7-b175-7ecf125b1326",
    "deepnote_cell_type": "markdown"
   }
  },
  {
   "cell_type": "code",
   "metadata": {
    "tags": [],
    "cell_id": "00059-5fba2d14-ee00-42ae-96e6-7df16ffc742b",
    "deepnote_to_be_reexecuted": false,
    "source_hash": "52c17cfd",
    "execution_start": 1636864219640,
    "execution_millis": 10,
    "deepnote_cell_type": "code"
   },
   "source": "%cd /work/",
   "execution_count": null,
   "outputs": [
    {
     "name": "stdout",
     "text": "/work\n",
     "output_type": "stream"
    }
   ]
  },
  {
   "cell_type": "markdown",
   "source": "## 6. MD Simulations with the ænet-LAMMPS Interface",
   "metadata": {
    "tags": [],
    "is_collapsed": false,
    "cell_id": "00060-38d3c36e-6fca-42d7-9e38-f4a8fdaa69bb",
    "deepnote_cell_type": "text-cell-h2"
   }
  },
  {
   "cell_type": "markdown",
   "source": "**Example usage of the ænet-LAMMPS interface for molecular dynamics simulations with artificial neural network (ANN) potentials.**\n\nIf you make use of the aenet-LAMMPS interface, please cite the following reference:\n\nM.S. Chen, T. Morawietz, H. Mori, T.E. Markland, N. Artrith, AENET-LAMMPS and AENET-TINKER: Interfaces for Accurate and Efficient Molecular Dynamics Simulations with Machine Learning Potentials, J. Chem. Phys. **155**, 074801 (2021). doi: https://doi.org/10.1063/5.0063880\n\nPreprint (Preprint where the data is discussed)\narXiv (2021) doi: https://arxiv.org/abs/2107.11311\n\nThe database can be obtained from the Materials Cloud repository, DOI: https://doi.org/10.24435/materialscloud:dx-ct\n\nTutorial: https://github.com/atomisticnet/aenet-lammps/tutorial",
   "metadata": {
    "tags": [],
    "cell_id": "00061-e8e392f6-5dca-4072-960e-e289f9e9d43e",
    "deepnote_cell_type": "markdown"
   }
  },
  {
   "cell_type": "markdown",
   "source": "### Simulation of liquid water",
   "metadata": {
    "tags": [],
    "is_collapsed": false,
    "cell_id": "00062-5031024c-0608-405e-8d54-9980a32306c4",
    "deepnote_cell_type": "text-cell-h3"
   }
  },
  {
   "cell_type": "markdown",
   "source": "An example LAMMPS molecular dynamics simulation of liquid water with an ænet ANN potential is provided as part of the ænet-LAMMPS package.\n\nFirst we need to make sure that the ænet library file can be dynamically linked when we run LAMMPS.",
   "metadata": {
    "tags": [],
    "cell_id": "00063-d323a818-d2eb-4870-b69c-f24bb054b2c2",
    "deepnote_cell_type": "markdown"
   }
  },
  {
   "cell_type": "code",
   "metadata": {
    "tags": [],
    "cell_id": "00064-2cdc12fe-9e50-4efb-823a-523a02afd168",
    "deepnote_to_be_reexecuted": false,
    "source_hash": "b0c833d5",
    "execution_start": 1636864238145,
    "execution_millis": 433,
    "deepnote_cell_type": "code"
   },
   "source": "%env LD_LIBRARY_PATH=/work/lammps-4Feb20/lib/aenet/lib\n!echo $LD_LIBRARY_PATH",
   "execution_count": null,
   "outputs": [
    {
     "name": "stdout",
     "text": "env: LD_LIBRARY_PATH=/work/lammps-4Feb20/lib/aenet/lib\n/work/lammps-4Feb20/lib/aenet/lib\n",
     "output_type": "stream"
    }
   ]
  },
  {
   "cell_type": "markdown",
   "source": "Below, we run a short example simulation. The parameters of the simulation are specified in the LAMMPS input file `md.lmp`",
   "metadata": {
    "tags": [],
    "cell_id": "00065-0e645791-5da5-4168-8479-b64eb0afb814",
    "deepnote_cell_type": "markdown"
   }
  },
  {
   "cell_type": "code",
   "metadata": {
    "tags": [],
    "cell_id": "00062-13460934-e9a0-43ef-839c-dd52f721b2df",
    "deepnote_to_be_reexecuted": false,
    "source_hash": "6edf8279",
    "execution_start": 1636864505861,
    "execution_millis": 317,
    "deepnote_cell_type": "code"
   },
   "source": "%cd /work/psi-k-mlip-workshop-2021/05-aenet-lammps-water\n!cat md.lmp",
   "execution_count": null,
   "outputs": [
    {
     "name": "stdout",
     "text": "/work/psi-k-mlip-workshop-2021/05-aenet-lammps-water\n###############################################################################\n# MD simulation for H2O with NN potential\n###############################################################################\n\n###############################################################################\n# VARIABLES\n###############################################################################\nclear\nvariable dt              equal  0.0005                                                  # timestep (0.5fs)\nvariable intThermo       equal  4                                                       # screen output interval (timesteps)\nvariable intRestart      equal  4                                                       # restart file interval (timesteps)\nvariable mass1           equal  1.007825                                                # mass for element 1 (H)  (amu)\nvariable mass2           equal  15.994915                                               # mass for element 2 (O)  (amu)\nvariable nameStartCfg    string \"01_Start/firstframe.start\"\t\t\t        # name of the starting configuration file\nvariable nameRestart1    string \"02_Traj/swap1.res\"                                     # name of restart file 1\nvariable nameRestart2    string \"02_Traj/swap2.res\"                                     # name of restart file 2\nvariable nameRestartEnd2 string \"02_Traj/endcfg_run.res\"                                # name of final state restart file\n\n# set initial velocity distribution\nvariable initTemp        equal  300.0                                                   # initial temperature (K)\nvariable velSeed         equal  4928459                                                 # seed for random number generator\n\n# NVT integrator (Nose-Hoover)\nvariable tDamp           equal  1.0                                                     # thermostat damping factor (fs)\n\n# dump xyz trajectory file\nvariable intDumpXYZ      equal  4                                                       # xyz dump file interval (timesteps)\nvariable nameDumpXYZ     string \"02_Traj/traj.xyz\"                                      # xyz file name\n\n# dump velocities trajectory file\nvariable intDumpVelos    equal  4                                                       # velocities dump file interval (timesteps)\nvariable nameDumpVelos   string \"02_Traj/velocities.xyz\"                                # velocities file name\n\n# dump forces trajectory file\nvariable intDumpForces    equal 4                                                       # forces dump file interval (timesteps)\nvariable nameDumpForces   string \"02_Traj/forces.xyz\"                                   # forces file name\n\n# physical constants\nvariable Na              equal 6.02214\n\n# dump thermodynamic properties (temperature, pressure, potential energy, kinetic energy, integrator quantity)\nvariable intTD           equal  4                                                       # thermodynamics dump file interval (timesteps)\nvariable varVolume       equal  vol                                                     # variable required to print volume\nvariable varKE           equal  ke                                                      # variable required to print kinetic energy\nvariable varDensity      equal mass(all)/vol*10/${Na}\nvariable varCell         equal  lx\nvariable intMomentum     equal  100\n###############################################################################\n# SETUP\n###############################################################################\nunits metal\nboundary p p p                                                                          # set periodic boundary conditions\natom_style atomic                                                                       # set atomic style for particles\nread_data ${nameStartCfg}                                                               # read start configuration\nreset_timestep 0\n\n#\nmass 1 ${mass1}                                                                         # set mass for element 1\nmass 2 ${mass2}                                                                         # set mass for element 2\npair_style aenet H.ann O.ann \npair_coeff * *\n\ntimestep ${dt}                                                                          # set timestep\nrestart ${intRestart} ${nameRestart1} ${nameRestart2}                                   # write alternating binary restart files\ndump XYZ all xyz ${intDumpXYZ} ${nameDumpXYZ}                                           # set up xyz dump\ndump_modify XYZ first yes sort id                                                       # modify xyz dump\ndump VELOS all custom ${intDumpVelos} ${nameDumpVelos} type vx vy vz                    # set up velos dump\ndump_modify VELOS first yes sort id                                                     # modify velos dump\ndump FORCES all custom ${intDumpForces} ${nameDumpForces} type fx fy fz                 # set up forces dump\ndump_modify FORCES first yes sort id                                                    # modify forces dump\nthermo ${intThermo}                                                                     # set screen output\n###############################################################################\n# SIMULATION\n###############################################################################\n# run at 300K for 50 fs\nreset_timestep 0\nvariable numSteps        equal  100                                                  # total number of simulation timesteps (timesteps)\nvariable startTemp       equal  300.0                                                   # starting temperature for thermostat (K)\nvariable stopTemp        equal  300.0                                                   # final temperature for thermostat (K)\nvelocity all create ${initTemp} ${velSeed}                                              # create initial velocities\nfix INT all nve\t\t\t\t\t\t\t\t\t\t# set up integrator\nfix THER all temp/csvr ${startTemp} ${stopTemp} ${tDamp} 54324\t\t\t\t# set up thermostat\nfix MOMENTUM all momentum ${intMomentum} linear 1 1 1                                   # periodically reset total momentum\ncompute thermo2_temp all temp\nvariable nameTD_frames  string \"02_Traj/analysis_frames.dat\"\t\t\t\t# thermodynamics file name\nfix AVE_TD_frames all ave/time ${intTD} 1 ${intTD} c_thermo2_temp c_thermo_press v_varCell v_varVolume c_thermo_pe v_varDensity v_varKE file ${nameTD_frames} mode scalar format %18.8f      # set up thermodynamic properties output\nvariable nameTD_cummul string \"02_Traj/analysis_cummul.dat\"\t\t\t\t# thermodynamics file name\nfix AVE_TD_cummul all ave/time ${intTD} 1 ${intTD} c_thermo2_temp c_thermo_press v_varCell v_varVolume c_thermo_pe v_varDensity v_varKE file ${nameTD_cummul} ave running format %18.8f      # set up thermodynamic properties output\nrun ${numSteps}                                                                         # RUN SIMULATION\nwrite_restart ${nameRestartEnd2}                                                        # write final configuration (binary)\n###############################################################################\n# CLEAN UP\n###############################################################################\nundump XYZ\nundump VELOS\nundump FORCES\nunfix AVE_TD_frames\nunfix AVE_TD_cummul\nunfix MOMENTUM\nunfix THER\nunfix INT\n###############################################################################\n",
     "output_type": "stream"
    }
   ]
  },
  {
   "cell_type": "markdown",
   "source": "In brief, the conditions of the simulation are:\n\n* NVT simulation of liquid water at 300K\n* Initial frame specified by 01_Start/firstframe.start file (64 water molecules in box with side lengths of 12.417 Angstroms)\n* H.ann and O.ann are the ænet ANN potential files\n* Simulation runs for 100 steps with 0.5 fs spacing between steps and writing out properties every 2.0fs\n* Input file flags the use of the \"<a href=\"https://docs.lammps.org/units.html\">metal</a>\" unit system since the ANN potential was trained using eV units for energies and Angstroms units for positions.\n* Positions, velocities, forces, and energies are written out to files in the 02_Traj folder (traj.xyz, velocities.xyz, forces.xyz, and analysis_frames.dat respectively)\n\nNote that the file names of the ænet potentials are specified on the line\n\n    pair_style aenet H.ann O.ann \n\n\nThe actual simulations is run in the following cell.",
   "metadata": {
    "tags": [],
    "cell_id": "00062-f51c2ca0-9d48-4b30-9235-681ff4bcca09",
    "deepnote_cell_type": "markdown"
   }
  },
  {
   "cell_type": "code",
   "metadata": {
    "tags": [],
    "cell_id": "00065-a101d5c2-35d3-45ce-9c50-f9a63975d173",
    "deepnote_to_be_reexecuted": false,
    "source_hash": "17d2e178",
    "execution_start": 1636864603432,
    "execution_millis": 12133,
    "deepnote_cell_type": "code"
   },
   "source": "!/work/lammps-4Feb20/src/lmp_mpi -in md.lmp",
   "execution_count": null,
   "outputs": [
    {
     "name": "stdout",
     "text": "LAMMPS (4 Feb 2020)\nReading data file ...\n  orthogonal box = (0 0 0) to (12.4171 12.4171 12.4171)\n  1 by 1 by 1 MPI processor grid\n  reading atoms ...\n  192 atoms\n  read_data CPU = 0.00285798 secs\nNeighbor list info ...\n  update every 1 steps, delay 10 steps, check yes\n  max neighbors/atom: 2000, page size: 100000\n  master list distance cutoff = 8.35\n  ghost atom cutoff = 8.35\n  binsize = 4.175, bins = 3 3 3\n  1 neighbor lists, perpetual/occasional/extra = 1 0 0\n  (1) pair aenet, perpetual\n      attributes: full, newton on\n      pair build: full/bin/atomonly\n      stencil: full/bin/3d\n      bin: standard\nSetting up Verlet run ...\n  Unit style    : metal\n  Current step  : 0\n  Time step     : 0.0005\nPer MPI rank memory allocation (min/avg/max) = 6.705 | 6.705 | 6.705 Mbytes\nStep Temp E_pair E_mol TotEng Press \n       0          300   -30056.194            0   -30048.787   -4138.7878 \n       4    311.16524   -30056.471            0   -30048.789   -2680.0645 \n       8    325.61646   -30056.821            0   -30048.782    4949.5629 \n      12    310.57226   -30056.474            0   -30048.806    8251.7059 \n      16    315.26274   -30056.585            0   -30048.801    2446.1663 \n      20    306.02986    -30056.37            0   -30048.815   -2670.3051 \n      24    329.91611   -30056.977            0   -30048.832   -740.68931 \n      28    330.23232   -30057.005            0   -30048.852    5347.1609 \n      32    319.03827   -30056.716            0    -30048.84    6956.5274 \n      36    316.10423   -30056.657            0   -30048.853    3009.7582 \n      40    299.62656   -30056.248            0    -30048.85    571.70686 \n      44     326.0215   -30056.911            0   -30048.862    545.76778 \n      48    312.05352   -30056.516            0   -30048.812    3383.9577 \n      52    318.83778   -30056.654            0   -30048.782    4847.6457 \n      56    300.95386   -30056.155            0   -30048.725    6217.3848 \n      60    302.54665   -30056.278            0   -30048.808    4371.6857 \n      64      304.476   -30056.331            0   -30048.814    2679.8174 \n      68    300.04551   -30056.189            0   -30048.781    3053.4613 \n      72    314.64045   -30056.534            0   -30048.766     5653.102 \n      76    293.68455   -30055.993            0   -30048.742    8959.0566 \n      80    324.65481   -30056.783            0   -30048.768     5872.407 \n      84    305.23793   -30056.259            0   -30048.723    3076.0805 \n      88    324.61769   -30056.773            0   -30048.759    1100.5434 \n      92    311.16735   -30056.459            0   -30048.777    4735.5056 \n      96    308.70087   -30056.388            0   -30048.767    8820.4214 \n     100    320.68558   -30056.668            0   -30048.751    7659.6949 \nLoop time of 10.7497 on 1 procs for 100 steps with 192 atoms\n\nPerformance: 0.402 ns/day, 59.720 hours/ns, 9.303 timesteps/s\n75.4% CPU use with 1 MPI tasks x no OpenMP threads\n\nMPI task timing breakdown:\nSection |  min time  |  avg time  |  max time  |%varavg| %total\n---------------------------------------------------------------\nPair    | 10.58      | 10.58      | 10.58      |   0.0 | 98.42\nNeigh   | 0.058925   | 0.058925   | 0.058925   |   0.0 |  0.55\nComm    | 0.0029248  | 0.0029248  | 0.0029248  |   0.0 |  0.03\nOutput  | 0.10359    | 0.10359    | 0.10359    |   0.0 |  0.96\nModify  | 0.0036816  | 0.0036816  | 0.0036816  |   0.0 |  0.03\nOther   |            | 0.0006168  |            |       |  0.01\n\nNlocal:    192 ave 192 max 192 min\nHistogram: 1 0 0 0 0 0 0 0 0 0\nNghost:    2302 ave 2302 max 2302 min\nHistogram: 1 0 0 0 0 0 0 0 0 0\nNeighs:    0 ave 0 max 0 min\nHistogram: 1 0 0 0 0 0 0 0 0 0\nFullNghs:  46754 ave 46754 max 46754 min\nHistogram: 1 0 0 0 0 0 0 0 0 0\n\nTotal # of neighbors = 46754\nAve neighs/atom = 243.51\nNeighbor list builds = 25\nDangerous builds = 0\nSystem init for write_restart ...\nTotal wall time: 0:00:10\n",
     "output_type": "stream"
    }
   ]
  },
  {
   "cell_type": "code",
   "metadata": {
    "tags": [],
    "cell_id": "00065-5646c1f1-de8c-4228-8298-66706f7fa119",
    "deepnote_cell_type": "code"
   },
   "source": "",
   "execution_count": null,
   "outputs": []
  },
  {
   "cell_type": "markdown",
   "source": "<a style='text-decoration:none;line-height:16px;display:flex;color:#5B5B62;padding:10px;justify-content:end;' href='https://deepnote.com?utm_source=created-in-deepnote-cell&projectId=71b722ad-efce-4e30-b38a-c7706b3cbf45' target=\"_blank\">\n<img alt='Created in deepnote.com' style='display:inline;max-height:16px;margin:0px;margin-right:7.5px;' src='data:image/svg+xml;base64,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' > </img>\nCreated in <span style='font-weight:600;margin-left:4px;'>Deepnote</span></a>",
   "metadata": {
    "tags": [],
    "created_in_deepnote_cell": true,
    "deepnote_cell_type": "markdown"
   }
  }
 ],
 "nbformat": 4,
 "nbformat_minor": 2,
 "metadata": {
  "orig_nbformat": 2,
  "deepnote": {
   "is_reactive": false
  },
  "deepnote_notebook_id": "23413e13-c096-4ea0-92a4-363cc0473b79",
  "deepnote_execution_queue": []
 }
}