{
 "cells": [
  {
   "cell_type": "markdown",
   "source": "# Prerequisites - installation of ænet and ASE",
   "metadata": {
    "tags": [],
    "is_collapsed": false,
    "cell_id": "00000-0219906d-8b27-4cd4-999b-3f6c0328aabe",
    "deepnote_cell_type": "text-cell-h1"
   }
  },
  {
   "cell_type": "markdown",
   "source": "The materials for this tutorial are available in the following GitHub repository: https://github.com/atomisticnet/psi-k-mlip-workshop-2021\n\n**If you make use of ænet, please cite the following references as appropriate:**\n\nA more in-depth tutorial for the construction of ANN potentials can be found in:\n\nA.M. Miksch, T. Morawietz, J. Kästner, A. Urban, N. Artrith, “Strategies for the Construction of Machine-Learning Potentials for Accurate and Efficient Atomic-Scale Simulations”, [*Mach. Learn.: Sci. Technol.* **2** (2021) 031001](https://doi.org/10.1088/2632-2153/abfd96). \n\nThe atomic energy network (ænet) package: http://ann.atomistic.net\n\n[N. Artrith and A. Urban, *Comput. Mater. Sci.* **114** (2016) 135-150.](http://dx.doi.org/10.1016/j.commatsci.2015.11.047)<br/>\n[N. Artrith, A. Urban, and G. Ceder, *Phys. Rev. B* **96** (2017) 014112.](http://dx.doi.org/10.1103/PhysRevB.96.014112)\n\nThe ænet-LAMMPS interface:\n\n[M. S. Chen, T. Morawietz, H. Mori, T. E. Markland, and N. Artrith, *J. Chem. Phys.* **155** (2021) 074801.](https://doi.org/10.1063/5.0063880)\n\nThe atomic simulation environment (ASE): https://wiki.fysik.dtu.dk/ase/\n\n[A. H. Larsen et al., *J. Phys.: Condens. Matter* **29** (2017) 273002.](https://doi.org/10.1088/1361-648X/aa680e)\n\nThe Large-scale Atomic/Molecular Massively Parallel Simulator (LAMMPS): https://www.lammps.org\n\n[A. P. Thompson et al., Comp. Phys. Commun. 271 (2022) 10817.](https://doi.org/10.1016/j.cpc.2021.108171)\n\nContact: N. Artrith (n.artrith@uu.nl), M. S. Chen (misch@stanford.edu), A. M. Miksch (miksch@theochem.uni-stuttgart.de), A. Urban (a.urban@columbia.edu)",
   "metadata": {
    "tags": [],
    "cell_id": "00001-76f5d582-c0c7-49c4-9550-5a4eec7729c1",
    "deepnote_cell_type": "markdown"
   }
  },
  {
   "cell_type": "code",
   "metadata": {
    "tags": [],
    "cell_id": "00002-55d86d1f-d20e-45e9-9fc4-a69f70ba43f4",
    "deepnote_to_be_reexecuted": false,
    "source_hash": "ae5073ab",
    "execution_start": 1636901965195,
    "execution_millis": 4,
    "deepnote_cell_type": "code"
   },
   "source": "try:\n  import cython\nexcept ImportError:\n  ! pip install cython",
   "outputs": [],
   "execution_count": null
  },
  {
   "cell_type": "code",
   "metadata": {
    "tags": [],
    "deepnote_to_be_reexecuted": false,
    "source_hash": "7b11fbbc",
    "execution_start": 1636901968691,
    "execution_millis": 12802,
    "cell_id": "00002-b33c657e-8689-4372-933e-8bac4ec14ea6",
    "deepnote_cell_type": "code"
   },
   "source": "! git clone https://github.com/atomisticnet/aenet.git\n! cd aenet/lib && make\n! cd aenet/src && make -f makefiles/Makefile.gfortran_serial\n! cd aenet/src && make -f makefiles/Makefile.gfortran_serial lib\n! cd aenet/python3 && python3 setup.py build_ext --inplace\n! cd aenet/python3 && pip install -e . --user",
   "outputs": [
    {
     "name": "stdout",
     "text": "fatal: destination path 'aenet' already exists and is not an empty directory.\nmake: Nothing to be done for 'all'.\ngfortran -static-libgfortran  -o ../bin/generate.x-2.0.4-gfortran_serial generate.f90 aenet.o aeio.o chebyshev.o constants.o feedforward.o geometry.o input.o io.o lclist.o optimize.o parallel.o potential.o random.o sfbasis.o sfsetup.o sortlib.o symmfunc.o timing.o trainset.o xsflib.o ../lib/liblbfgsb.a -llapack -lblas\ngfortran -static-libgfortran  -o ../bin/train.x-2.0.4-gfortran_serial train.f90 aenet.o aeio.o chebyshev.o constants.o feedforward.o geometry.o input.o io.o lclist.o optimize.o parallel.o potential.o random.o sfbasis.o sfsetup.o sortlib.o symmfunc.o timing.o trainset.o xsflib.o ../lib/liblbfgsb.a -llapack -lblas\ngfortran -static-libgfortran  -o ../bin/predict.x-2.0.4-gfortran_serial predict.F90 aenet.o aeio.o chebyshev.o constants.o feedforward.o geometry.o input.o io.o lclist.o optimize.o parallel.o potential.o random.o sfbasis.o sfsetup.o sortlib.o symmfunc.o timing.o trainset.o xsflib.o ../lib/liblbfgsb.a -llapack -lblas\nmake: Nothing to be done for 'lib'.\nrunning build_ext\nskipping 'aenet/core.c' Cython extension (up-to-date)\nObtaining file:///work/aenet/python3\nRequirement already satisfied: numpy>=1.5 in /usr/local/lib/python3.8/site-packages (from aenet==0.1.0a1) (1.21.4)\nInstalling collected packages: aenet\n  Running setup.py develop for aenet\nSuccessfully installed aenet\n\u001b[33mWARNING: You are using pip version 21.1.1; however, version 21.3.1 is available.\nYou should consider upgrading via the '/root/venv/bin/python -m pip install --upgrade pip' command.\u001b[0m\n",
     "output_type": "stream"
    }
   ],
   "execution_count": null
  },
  {
   "cell_type": "code",
   "metadata": {
    "tags": [],
    "deepnote_to_be_reexecuted": false,
    "source_hash": "39d46e61",
    "execution_start": 1636901997196,
    "execution_millis": 288,
    "cell_id": "00003-c0b0d96e-f439-4ec4-8c2c-77cc01534065",
    "deepnote_cell_type": "code"
   },
   "source": "try:\n  import ase\n  print(\"successfully imported ase\")\nexcept ImportError:\n  ! pip install ase --user --upgrade\n  print(\"completed installing ASE\")",
   "outputs": [
    {
     "name": "stdout",
     "text": "successfully imported ase\n",
     "output_type": "stream"
    }
   ],
   "execution_count": null
  },
  {
   "cell_type": "markdown",
   "source": "Now: Notebook has to be restarted to activate the packages that we just installed.",
   "metadata": {
    "tags": [],
    "cell_id": "00006-1fe5bea6-6abf-4f4f-b5c8-c7994a63fc07",
    "deepnote_cell_type": "markdown"
   }
  },
  {
   "cell_type": "code",
   "metadata": {
    "tags": [],
    "deepnote_to_be_reexecuted": false,
    "source_hash": "dac1289f",
    "execution_start": 1636902002231,
    "execution_millis": 9,
    "cell_id": "00007-2653842c-c859-419c-908e-f66233273fcd",
    "deepnote_cell_type": "code"
   },
   "source": "try:\n  import aenet\n  import ase\nexcept ImportError:\n  import os\n  os.kill(os.getpid(), 9)",
   "outputs": [],
   "execution_count": null
  },
  {
   "cell_type": "markdown",
   "source": "We need to import Python packages/libraries that we will use below.",
   "metadata": {
    "tags": [],
    "is_collapsed": false,
    "cell_id": "00009-236981e6-59d0-47de-a3bf-48ed4f49e7c2",
    "deepnote_cell_type": "text-cell-p"
   }
  },
  {
   "cell_type": "code",
   "metadata": {
    "tags": [],
    "deepnote_to_be_reexecuted": false,
    "source_hash": "a5b77d47",
    "execution_start": 1636902040627,
    "execution_millis": 367,
    "cell_id": "00010-92ea9e93-0263-492c-9b7f-acb80a4d7380",
    "deepnote_cell_type": "code"
   },
   "source": "import numpy as np\nimport pandas as pd\nimport re\nfrom IPython.display import Image\n%matplotlib inline\nimport matplotlib.pyplot as plt\nplt.rcParams.update({\"font.size\": 15})\nplt.close(\"all\")",
   "execution_count": 1,
   "outputs": []
  },
  {
   "cell_type": "markdown",
   "source": "## Test the ænet-Python Interface",
   "metadata": {
    "tags": [],
    "is_collapsed": false,
    "cell_id": "00040-cd33482f-c5c3-46b4-9573-3260670c24ec",
    "deepnote_cell_type": "text-cell-h2"
   }
  },
  {
   "cell_type": "code",
   "metadata": {
    "tags": [],
    "deepnote_to_be_reexecuted": false,
    "source_hash": "7497924b",
    "execution_start": 1636902043902,
    "execution_millis": 761,
    "cell_id": "00042-e16d7500-ff72-4119-a643-7f8ac869fbc7",
    "deepnote_cell_type": "code"
   },
   "source": "import aenet\nfrom aenet.ase_calculator import ANNCalculator\nimport ase\nimport ase.spacegroup\nimport ase.visualize",
   "execution_count": 2,
   "outputs": []
  },
  {
   "cell_type": "markdown",
   "source": "<a style='text-decoration:none;line-height:16px;display:flex;color:#5B5B62;padding:10px;justify-content:end;' href='https://deepnote.com?utm_source=created-in-deepnote-cell&projectId=71b722ad-efce-4e30-b38a-c7706b3cbf45' target=\"_blank\">\n<img alt='Created in deepnote.com' style='display:inline;max-height:16px;margin:0px;margin-right:7.5px;' src='data:image/svg+xml;base64,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' > </img>\nCreated in <span style='font-weight:600;margin-left:4px;'>Deepnote</span></a>",
   "metadata": {
    "tags": [],
    "created_in_deepnote_cell": true,
    "deepnote_cell_type": "markdown"
   }
  }
 ],
 "nbformat": 4,
 "nbformat_minor": 2,
 "metadata": {
  "orig_nbformat": 2,
  "deepnote": {
   "is_reactive": false
  },
  "deepnote_notebook_id": "4ea115c3-d3be-42c9-9098-d7bd0082acc0",
  "deepnote_execution_queue": []
 }
}